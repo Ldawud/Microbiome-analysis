{
 "cells": [
  {
   "cell_type": "markdown",
   "metadata": {},
   "source": [
    "# Lowry Lab Microbiome analysis pipeline\n",
    "\n",
    "\n",
    "This is desgined to be run as a Jupyter Notebook, which requires Python and Jupyter to be installed. Jupyter notebook is a good way to keep track of all code that you've run, so I recommend using it.\n",
    "\n",
    "However, if just viewing this document as a pdf, you can copy/paste any command that starts with `!` or `%` into the terminal. To view .qzv files, go to [QIIME2 View](https://view.qiime2.org/). Commands that do not start with those characters are Python code and must be run in a Python environment, such as Jupyter Notebook."
   ]
  },
  {
   "cell_type": "markdown",
   "metadata": {},
   "source": [
    "## Sample processing details\n",
    "#### DNA Extraction \n",
    "INSERT INFORMATION  \n",
    "#### PCR \n",
    "INSERT INFORMATION\n",
    "#### Normalization \n",
    "INSERT INFORMATION\n",
    "#### Sequencing \n",
    "INSERT INFORMATION"
   ]
  },
  {
   "cell_type": "markdown",
   "metadata": {},
   "source": [
    "## Setting up the environment"
   ]
  },
  {
   "cell_type": "markdown",
   "metadata": {},
   "source": [
    "### Conda and QIIME2\n",
    "\n",
    "From Sangita's pipeline:\n",
    "\n",
    "**Installing Miniconda:**\n",
    "Go to https://conda.io/miniconda.html and double-click on the Miniconda installer (choose the .pkg\n",
    "hyperlink) under your platform of choice (Windows, Mac OS, Linux OS).\n",
    "\n",
    "**Installing QIIME2:**\n",
    "Open a new Terminal window. You will need to run the following commands to verify that your version\n",
    "of Miniconda is up-to-date, create a new conda environment called qiime2-2020.11, and then remove\n",
    "the installation file:\n",
    "\n",
    "`conda update conda\n",
    "conda install wget`\n",
    "\n",
    "Visit the [QIIME2 installation tutorial](https://docs.qiime2.org/2020.11/install/native/) for up to date instructions, but this should hold for the 2020.11 version if you're using a Mac:\n",
    "\n",
    "`wget https://data.qiime2.org/distro/core/qiime2-2020.11-py36-osx-conda.yml\n",
    "conda env create -n qiime2-2020.11 --file qiime2-2020.11-py36-osx-conda.yml\n",
    "#OPTIONAL CLEANUP\n",
    "rm qiime2-2020.11-py36-osx-conda.yml`\n",
    "\n",
    "\n",
    "**Activating the environment**\n",
    "\n",
    "Double-check the environment path by running `conda env list` \n",
    "\n",
    "The output should look something like the code block below's output."
   ]
  },
  {
   "cell_type": "code",
   "execution_count": 139,
   "metadata": {},
   "outputs": [
    {
     "name": "stdout",
     "output_type": "stream",
     "text": [
      "# conda environments:\r\n",
      "#\r\n",
      "                         /Users/johnsterrett/.julia/conda/3\r\n",
      "                         /Users/johnsterrett/Library/r-miniconda\r\n",
      "                         /Users/johnsterrett/Library/r-miniconda/envs/r-reticulate\r\n",
      "                         /Users/johnsterrett/opt/anaconda3\r\n",
      "                         /Users/johnsterrett/opt/anaconda3/envs/iab-latest\r\n",
      "                         /Users/johnsterrett/opt/anaconda3/envs/myenv\r\n",
      "                         /Users/johnsterrett/opt/anaconda3/envs/qiime2-2020.2\r\n",
      "base                     /Users/johnsterrett/opt/miniconda3\r\n",
      "qiime2-2019.10           /Users/johnsterrett/opt/miniconda3/envs/qiime2-2019.10\r\n",
      "                         /opt/anaconda3\r\n",
      "                      *  /opt/anaconda3/envs/qiime2-2020.11\r\n",
      "                         /opt/anaconda3/envs/qiime2-2020.6\r\n",
      "                         /opt/anaconda3/envs/qiime2-2020.6-NEW\r\n",
      "\r\n"
     ]
    }
   ],
   "source": [
    "! conda env list"
   ]
  },
  {
   "cell_type": "markdown",
   "metadata": {},
   "source": [
    "### Activating the environment\n",
    "\n",
    "We want to activate the newest version, which is 2020.11 as of January 20201. Run the following line from terminal and start the Jupyter notebook from that terminal window with the activated environment.\n",
    "\n",
    "`conda activate /opt/anaconda3/envs/qiime2-2020.11`\n",
    "\n",
    "### Enabling QIIME2 Jupyter Extension\n",
    "\n",
    "If you haven't installed Jupyter Notebook, visit https://jupyter.org/install to install it. Jupyter is a great way to keep track of all the code you've run.\n",
    "\n",
    "If not enabled yet, enable QIIME 2 Jupyter extension with:\n",
    "\n",
    "`jupyter serverextension enable --py qiime2 --sys-prefix`\n",
    "\n",
    "then start your Jupyter notebook."
   ]
  },
  {
   "cell_type": "markdown",
   "metadata": {},
   "source": [
    "**This QIIME2 info command should be at the top of your notebook! It's very important to document the Python and QIIME2 versions for reproducibility**"
   ]
  },
  {
   "cell_type": "code",
   "execution_count": 1,
   "metadata": {},
   "outputs": [
    {
     "name": "stdout",
     "output_type": "stream",
     "text": [
      "\u001b[32mSystem versions\u001b[0m\n",
      "Python version: 3.6.12\n",
      "QIIME 2 release: 2020.11\n",
      "QIIME 2 version: 2020.11.1\n",
      "q2cli version: 2020.11.1\n",
      "\u001b[32m\n",
      "Installed plugins\u001b[0m\n",
      "alignment: 2020.11.1\n",
      "composition: 2020.11.1\n",
      "cutadapt: 2020.11.1\n",
      "dada2: 2020.11.1\n",
      "deblur: 2020.11.1\n",
      "demux: 2020.11.1\n",
      "diversity: 2020.11.1\n",
      "diversity-lib: 2020.11.1\n",
      "emperor: 2020.11.1\n",
      "feature-classifier: 2020.11.1\n",
      "feature-table: 2020.11.1\n",
      "fragment-insertion: 2020.11.1\n",
      "gneiss: 2020.11.1\n",
      "longitudinal: 2020.11.1\n",
      "metadata: 2020.11.1\n",
      "phylogeny: 2020.11.1\n",
      "quality-control: 2020.11.1\n",
      "quality-filter: 2020.11.1\n",
      "sample-classifier: 2020.11.1\n",
      "taxa: 2020.11.1\n",
      "types: 2020.11.1\n",
      "vsearch: 2020.11.1\n",
      "\u001b[32m\n",
      "Application config directory\u001b[0m\n",
      "/opt/anaconda3/envs/qiime2-2020.11/var/q2cli\u001b[0m\n",
      "\u001b[32m\n",
      "Getting help\u001b[0m\n",
      "To get help with QIIME 2, visit https://qiime2.org\u001b[0m\n"
     ]
    }
   ],
   "source": [
    "! qiime info"
   ]
  },
  {
   "cell_type": "markdown",
   "metadata": {},
   "source": [
    "### QIIME2 Help!\n",
    "\n",
    "Any time you want more information about a QIIME2 plugin or command, use the argument `--help`. QIIME2 commands follow the structure `qiime PLUGIN COMMAND --argument1 --argument2 ...`, which can also be run as:\n",
    "\n",
    "`qiime PLUGIN COMMAND \\\n",
    "--argument1 \\\n",
    "--argument2`\n",
    "\n",
    "Examples are included below"
   ]
  },
  {
   "cell_type": "code",
   "execution_count": 1,
   "metadata": {
    "scrolled": true
   },
   "outputs": [
    {
     "name": "stdout",
     "output_type": "stream",
     "text": [
      "Usage: \u001b[34mqiime\u001b[0m [OPTIONS] COMMAND [ARGS]...\r\n",
      "\r\n",
      "  QIIME 2 command-line interface (q2cli)\r\n",
      "  --------------------------------------\r\n",
      "\r\n",
      "  To get help with QIIME 2, visit https://qiime2.org.\r\n",
      "\r\n",
      "  To enable tab completion in Bash, run the following command or add it to\r\n",
      "  your .bashrc/.bash_profile:\r\n",
      "\r\n",
      "      source tab-qiime\r\n",
      "\r\n",
      "  To enable tab completion in ZSH, run the following commands or add them to\r\n",
      "  your .zshrc:\r\n",
      "\r\n",
      "      autoload -Uz compinit && compinit\r\n",
      "      autoload bashcompinit && bashcompinit\r\n",
      "      source tab-qiime\r\n",
      "\r\n",
      "\u001b[1mOptions\u001b[0m:\r\n",
      "  \u001b[34m--version\u001b[0m   Show the version and exit.\r\n",
      "  \u001b[34m--help\u001b[0m      Show this message and exit.\r\n",
      "\r\n",
      "\u001b[1mCommands\u001b[0m:\r\n",
      "  \u001b[34minfo\u001b[0m                Display information about current deployment.\r\n",
      "  \u001b[34mtools\u001b[0m               Tools for working with QIIME 2 files.\r\n",
      "  \u001b[34mdev\u001b[0m                 Utilities for developers and advanced users.\r\n",
      "  \u001b[34malignment\u001b[0m           Plugin for generating and manipulating alignments.\r\n",
      "  \u001b[34mcomposition\u001b[0m         Plugin for compositional data analysis.\r\n",
      "  \u001b[34mcutadapt\u001b[0m            Plugin for removing adapter sequences, primers, and\r\n",
      "                      other unwanted sequence from sequence data.\r\n",
      "\r\n",
      "  \u001b[34mdada2\u001b[0m               Plugin for sequence quality control with DADA2.\r\n",
      "  \u001b[34mdeblur\u001b[0m              Plugin for sequence quality control with Deblur.\r\n",
      "  \u001b[34mdemux\u001b[0m               Plugin for demultiplexing & viewing sequence quality.\r\n",
      "  \u001b[34mdiversity\u001b[0m           Plugin for exploring community diversity.\r\n",
      "  \u001b[34mdiversity-lib\u001b[0m       Plugin for computing community diversity.\r\n",
      "  \u001b[34memperor\u001b[0m             Plugin for ordination plotting with Emperor.\r\n",
      "  \u001b[34mfeature-classifier\u001b[0m  Plugin for taxonomic classification.\r\n",
      "  \u001b[34mfeature-table\u001b[0m       Plugin for working with sample by feature tables.\r\n",
      "  \u001b[34mfragment-insertion\u001b[0m  Plugin for extending phylogenies.\r\n",
      "  \u001b[34mgneiss\u001b[0m              Plugin for building compositional models.\r\n",
      "  \u001b[34mlongitudinal\u001b[0m        Plugin for paired sample and time series analyses.\r\n",
      "  \u001b[34mmetadata\u001b[0m            Plugin for working with Metadata.\r\n",
      "  \u001b[34mphylogeny\u001b[0m           Plugin for generating and manipulating phylogenies.\r\n",
      "  \u001b[34mquality-control\u001b[0m     Plugin for quality control of feature and sequence data.\r\n",
      "  \u001b[34mquality-filter\u001b[0m      Plugin for PHRED-based filtering and trimming.\r\n",
      "  \u001b[34msample-classifier\u001b[0m   Plugin for machine learning prediction of sample\r\n",
      "                      metadata.\r\n",
      "\r\n",
      "  \u001b[34mtaxa\u001b[0m                Plugin for working with feature taxonomy annotations.\r\n",
      "  \u001b[34mvsearch\u001b[0m             Plugin for clustering and dereplicating with vsearch.\r\n"
     ]
    }
   ],
   "source": [
    "! qiime --help #lists all of the plugins you can use"
   ]
  },
  {
   "cell_type": "code",
   "execution_count": 151,
   "metadata": {
    "scrolled": true
   },
   "outputs": [
    {
     "name": "stdout",
     "output_type": "stream",
     "text": [
      "Usage: \u001b[34mqiime demux\u001b[0m [OPTIONS] COMMAND [ARGS]...\r\n",
      "\r\n",
      "  Description: This QIIME 2 plugin supports demultiplexing of single-end and\r\n",
      "  paired-end sequence reads and visualization of sequence quality\r\n",
      "  information.\r\n",
      "\r\n",
      "  Plugin website: https://github.com/qiime2/q2-demux\r\n",
      "\r\n",
      "  Getting user support: Please post to the QIIME 2 forum for help with this\r\n",
      "  plugin: https://forum.qiime2.org\r\n",
      "\r\n",
      "\u001b[1mOptions\u001b[0m:\r\n",
      "  \u001b[34m--version\u001b[0m    Show the version and exit.\r\n",
      "  \u001b[34m--citations\u001b[0m  Show citations and exit.\r\n",
      "  \u001b[34m--help\u001b[0m       Show this message and exit.\r\n",
      "\r\n",
      "\u001b[1mCommands\u001b[0m:\r\n",
      "  \u001b[34memp-paired\u001b[0m        Demultiplex paired-end sequence data generated with the\r\n",
      "                    EMP protocol.\r\n",
      "\r\n",
      "  \u001b[34memp-single\u001b[0m        Demultiplex sequence data generated with the EMP protocol.\r\n",
      "  \u001b[34mfilter-samples\u001b[0m    Filter samples out of demultiplexed data.\r\n",
      "  \u001b[34msubsample-paired\u001b[0m  Subsample paired-end sequences without replacement.\r\n",
      "  \u001b[34msubsample-single\u001b[0m  Subsample single-end sequences without replacement.\r\n",
      "  \u001b[34msummarize\u001b[0m         Summarize counts per sample.\r\n"
     ]
    }
   ],
   "source": [
    "! qiime demux --help #shows all of the commands you can use in the demux plugin"
   ]
  },
  {
   "cell_type": "code",
   "execution_count": 152,
   "metadata": {
    "scrolled": true
   },
   "outputs": [
    {
     "name": "stdout",
     "output_type": "stream",
     "text": [
      "Usage: \u001b[34mqiime demux emp-paired\u001b[0m [OPTIONS]\r\n",
      "\r\n",
      "  Demultiplex paired-end sequence data (i.e., map barcode reads to sample\r\n",
      "  ids) for data generated with the Earth Microbiome Project (EMP) amplicon\r\n",
      "  sequencing protocol. Details about this protocol can be found at\r\n",
      "  http://www.earthmicrobiome.org/protocols-and-standards/\r\n",
      "\r\n",
      "\u001b[1mInputs\u001b[0m:\r\n",
      "  \u001b[34m\u001b[4m--i-seqs\u001b[0m ARTIFACT \u001b[32mEMPPairedEndSequences\u001b[0m\r\n",
      "                       The paired-end sequences to be demultiplexed.\r\n",
      "                                                                    \u001b[35m[required]\u001b[0m\r\n",
      "\u001b[1mParameters\u001b[0m:\r\n",
      "  \u001b[34m\u001b[4m--m-barcodes-file\u001b[0m METADATA\r\n",
      "  \u001b[34m\u001b[4m--m-barcodes-column\u001b[0m COLUMN  \u001b[32mMetadataColumn[Categorical]\u001b[0m\r\n",
      "                       The sample metadata column containing the per-sample\r\n",
      "                       barcodes.                                    \u001b[35m[required]\u001b[0m\r\n",
      "  \u001b[34m--p-golay-error-correction\u001b[0m / \u001b[34m--p-no-golay-error-correction\u001b[0m\r\n",
      "                       Perform 12nt Golay error correction on the barcode\r\n",
      "                       reads.                                  \u001b[35m[default: True]\u001b[0m\r\n",
      "  \u001b[34m--p-rev-comp-barcodes\u001b[0m / \u001b[34m--p-no-rev-comp-barcodes\u001b[0m\r\n",
      "                       If provided, the barcode sequence reads will be\r\n",
      "                       reverse complemented prior to demultiplexing.\r\n",
      "                                                              \u001b[35m[default: False]\u001b[0m\r\n",
      "  \u001b[34m--p-rev-comp-mapping-barcodes\u001b[0m / \u001b[34m--p-no-rev-comp-mapping-barcodes\u001b[0m\r\n",
      "                       If provided, the barcode sequences in the sample\r\n",
      "                       metadata will be reverse complemented prior to\r\n",
      "                       demultiplexing.                        \u001b[35m[default: False]\u001b[0m\r\n",
      "  \u001b[34m--p-ignore-description-mismatch\u001b[0m / \u001b[34m--p-no-ignore-description-mismatch\u001b[0m\r\n",
      "                       If enabled, ignore mismatches in sequence record\r\n",
      "                       description fields.                    \u001b[35m[default: False]\u001b[0m\r\n",
      "\u001b[1mOutputs\u001b[0m:\r\n",
      "  \u001b[34m\u001b[4m--o-per-sample-sequences\u001b[0m ARTIFACT \u001b[32m\u001b[0m\r\n",
      "    \u001b[32mSampleData[PairedEndSequencesWithQuality]\u001b[0m\r\n",
      "                       The resulting demultiplexed sequences.       \u001b[35m[required]\u001b[0m\r\n",
      "  \u001b[34m\u001b[4m--o-error-correction-details\u001b[0m ARTIFACT \u001b[32mErrorCorrectionDetails\u001b[0m\r\n",
      "                       Detail about the barcode error corrections.  \u001b[35m[required]\u001b[0m\r\n",
      "\u001b[1mMiscellaneous\u001b[0m:\r\n",
      "  \u001b[34m--output-dir\u001b[0m PATH    Output unspecified results to a directory\r\n",
      "  \u001b[34m--verbose\u001b[0m / \u001b[34m--quiet\u001b[0m  Display verbose output to stdout and/or stderr during\r\n",
      "                       execution of this action. Or silence output if\r\n",
      "                       execution is successful (silence is golden).\r\n",
      "  \u001b[34m--examples\u001b[0m           Show usage examples and exit.\r\n",
      "  \u001b[34m--citations\u001b[0m          Show citations and exit.\r\n",
      "  \u001b[34m--help\u001b[0m               Show this message and exit.\r\n"
     ]
    }
   ],
   "source": [
    "! qiime demux emp-paired --help #lists all of the parameters that the emp-paired command takes"
   ]
  },
  {
   "cell_type": "markdown",
   "metadata": {},
   "source": [
    "### Importing libraries.\n",
    "\n",
    "If there are any errors with libraries not being found, run `! pip install LIBRARYNAME`. For example, I don't think the QIIME2 environment includes bs4, so you will likely need to run `! pip install bs4`."
   ]
  },
  {
   "cell_type": "code",
   "execution_count": 25,
   "metadata": {},
   "outputs": [],
   "source": [
    "from qiime2 import Visualization, Artifact, Metadata\n",
    "from qiime2.plugins import feature_table, diversity\n",
    "from qiime2.plugins.diversity.visualizers import beta_group_significance\n",
    "from qiime2.plugins.diversity.actions import beta_correlation\n",
    "import pandas as pd\n",
    "import numpy as np\n",
    "import matplotlib.pyplot as plt\n",
    "import seaborn as sns\n",
    "import os\n",
    "import json\n",
    "from bs4 import BeautifulSoup\n",
    "from scipy import stats\n",
    "%matplotlib inline"
   ]
  },
  {
   "cell_type": "markdown",
   "metadata": {},
   "source": [
    "## Directory setup \n",
    "\n",
    "Enter the absolute filepath below. Running the `%cd {directory}` command will allow you to easily return to this project's home base whenever you need to."
   ]
  },
  {
   "cell_type": "code",
   "execution_count": 2,
   "metadata": {},
   "outputs": [],
   "source": [
    "#directory = input(\"What directory will work be performed in? Please provide absolute filepath.\")\n",
    "directory = \"/Users/johnsterrett/Research-Projects/Boulder/210122_Dawud_Kessler_Lowry-1205\""
   ]
  },
  {
   "cell_type": "code",
   "execution_count": 27,
   "metadata": {},
   "outputs": [
    {
     "name": "stdout",
     "output_type": "stream",
     "text": [
      "/Users/johnsterrett/Research-Projects/Boulder/210122_Dawud_Kessler_Lowry-1205\n"
     ]
    },
    {
     "data": {
      "text/plain": [
       "'/Users/johnsterrett/Research-Projects/Boulder/210122_Dawud_Kessler_Lowry-1205'"
      ]
     },
     "execution_count": 27,
     "metadata": {},
     "output_type": "execute_result"
    }
   ],
   "source": [
    "%cd {directory}\n",
    "\n",
    "#make sure we're where we want to be\n",
    "%pwd"
   ]
  },
  {
   "cell_type": "markdown",
   "metadata": {},
   "source": [
    "## Metadata\n",
    "\n",
    "All relevant metadata were should be compiled into a master metadata (mapping) file. The metadata file should be validated using the google addon [Keemei](https://keemei.qiime2.org/). Security settings don't typically allow Keemei functionality on University of Colorado Google Sheets, so you may have to use Keemei on a personal Google Sheets account. \n",
    "\n",
    "### Here is an image with a screenshot of how to access Keemei from your Google Sheets\n",
    "If you have never used Keemei before, you will have to click \"Get add-ons\" to download it. Otherwise, click Keemei, then \"Validate QIIME2 metadata file\"\n",
    "![image](Keemei-screenshot.png)\n",
    "\n",
    "Metadata files should then be downloaded in the tab-separated values (.tsv) format. In Google sheets, click File -> Download -> Tab-separated values.\n",
    "\n",
    "For ease of use in this pipeline, metadata files should be named `metadata.tsv`, and your barcodes should be in a column titled `BarcodeSequence`"
   ]
  },
  {
   "cell_type": "markdown",
   "metadata": {},
   "source": [
    "### SEPP analysis \n",
    "This is an analysis that was recommended by the Lozupone lab to tighten up the tree by removing outlier taxa. You can perform this analysis with the reference database being based on greengenes or silva. Silva is preferred as it is more up-to-date and you need to download that reference database separatly. Use the link or the following address to download the database used in this analysis.  \n",
    "[silva sepp database](https://data.qiime2.org/2019.10/common/sepp-refs-silva-128.qza)  \n",
    "\n",
    "Make sure to save it as sepp-refs-silva-128-DataBase.qza so the following code will work without modification."
   ]
  },
  {
   "cell_type": "code",
   "execution_count": null,
   "metadata": {},
   "outputs": [],
   "source": [
    "! qiime fragment-insertion sepp \\\n",
    "--i-representative-sequences dada2-results/representative_sequences.qza \\\n",
    "--i-reference-database sepp-refs-silva-128-DataBase.qza \\\n",
    "--o-tree insertion-tree.qza \\\n",
    "--o-placements insertion-placements.qza"
   ]
  },
  {
   "cell_type": "code",
   "execution_count": null,
   "metadata": {},
   "outputs": [],
   "source": [
    "! qiime fragment-insertion filter-features \\\n",
    "--i-table table.qza \\\n",
    "--i-tree insertion-tree.qza \\\n",
    "--o-filtered-table filtered-table.qza \\\n",
    "--o-removed-table removed-table.qza"
   ]
  },
  {
   "cell_type": "markdown",
   "metadata": {},
   "source": [
    "### Creating a phylogenetic tree\n",
    "\n",
    "**This is only necessary if you do not do the SEPP analysis. If you use this instead of SEPP, it will take the place of the** `insertion-tree.qza` **file.** You will need to replace any command that takes `insertion-tree.qza` as an input to take `rooted-tree.qza`."
   ]
  },
  {
   "cell_type": "code",
   "execution_count": null,
   "metadata": {},
   "outputs": [],
   "source": [
    "! qiime alignment mafft \\\n",
    "--i-sequences rep-seqs.qza \\\n",
    "--o-alignment aligned-rep-seqs.qza"
   ]
  },
  {
   "cell_type": "code",
   "execution_count": null,
   "metadata": {},
   "outputs": [],
   "source": [
    "! qiime alignment mask \\\n",
    "--i-alignment aligned-rep-seqs.qza \\\n",
    "--o-masked-alignment mask-aligned-rep-seqs.qza"
   ]
  },
  {
   "cell_type": "code",
   "execution_count": null,
   "metadata": {},
   "outputs": [],
   "source": [
    "! qiime phylogeny fasttree \\\n",
    "--i-alignment mask-aligned-rep-seqs.qza \\\n",
    "--o-tree unrooted-tree.qza"
   ]
  },
  {
   "cell_type": "code",
   "execution_count": null,
   "metadata": {},
   "outputs": [],
   "source": [
    "! qiime phylogeny midpoint-root \\\n",
    "--i-tree unrooted-tree.qza \\\n",
    "--o-rooted-tree rooted-tree.qza"
   ]
  },
  {
   "cell_type": "markdown",
   "metadata": {},
   "source": [
    "### Assigning taxonomy\n",
    "\n",
    "The `fragment-insertion classify-otus-experimental` method sometimes works, but I've often had problems with it. For output quality, I recommend it, but it has often failed for me, so I typically use `feature-classifier classify-sklearn`. \n",
    "\n",
    "**If using the fragment-insertion classifier**, you will need to download this [silva reference taxonomy file](https://data.qiime2.org/2020.6/common/silva-138-99-tax.qza) and save it as `silva-128-ref-taxonomy.qza`. For that reference file, please cite \n",
    "`Bokulich, N.A., Robeson, M., Dillon, M.R. bokulich-lab/RESCRIPt. Zenodo. http://doi.org/10.5281/zenodo.3891931` because it was reformatted by developers using Nicholas Bokulich's RESCRIPt package.\n",
    "\n",
    "**If using feature-classifier**, you will need to download this [pretrained Naive-Bayes classifier](https://data.qiime2.org/2020.6/common/silva-138-99-515-806-nb-classifier.qza) from the QIIME2 developers and save it as `silva-138-99-515-806-nb-classifier.qza`\n",
    "\n",
    "**NOTE: You should run** `fragment-insertion classify-otus-experimental` **OR** `feature-classifier classify-sklearn`, **NOT BOTH**"
   ]
  },
  {
   "cell_type": "code",
   "execution_count": null,
   "metadata": {},
   "outputs": [],
   "source": [
    "#! qiime fragment-insertion classify-otus-experimental \\\n",
    "#--i-representative-sequences rep-seqs.qza \\\n",
    "#--i-tree insertion-tree.qza \\\n",
    "#--i-reference-taxonomy silva-128-ref-taxonomy.qza \\\n",
    "#--o-classification sepp-silva-taxonomy.qza"
   ]
  },
  {
   "cell_type": "code",
   "execution_count": null,
   "metadata": {},
   "outputs": [],
   "source": [
    "! qiime feature-classifier classify-sklearn \\\n",
    "--i-reads rep-seqs.qza \\\n",
    "--i-classifier silva-138-99-515-806-nb-classifier.qza \\\n",
    "--output-dir silva-classified"
   ]
  },
  {
   "cell_type": "code",
   "execution_count": null,
   "metadata": {},
   "outputs": [],
   "source": [
    "#Only necessary if using feature-classifier\n",
    "! qiime metadata tabulate \\\n",
    "--m-input-file silva-classified/classification.qza \\\n",
    "--o-visualization silva-classified/classification.qzv"
   ]
  },
  {
   "cell_type": "code",
   "execution_count": null,
   "metadata": {},
   "outputs": [],
   "source": [
    "#Only necessary if using feature-classifier\n",
    "! mv silva-classified/classification.qza taxonomy-silva.qza\n",
    "! mv silva-classified/classification.qzv taxonomy-silva.qzv"
   ]
  },
  {
   "cell_type": "code",
   "execution_count": 142,
   "metadata": {},
   "outputs": [
    {
     "data": {
      "text/html": [
       "<div><img onload=\"(function(div, url){\n",
       "if (typeof require !== 'undefined') {\n",
       "    var baseURL = require.toUrl('').split('/').slice(0, -2).join('/');\n",
       "} else {\n",
       "    var baseURL = JSON.parse(\n",
       "        document.getElementById('jupyter-config-data').innerHTML\n",
       "    ).baseUrl.slice(0, -1);\n",
       "}\n",
       "url = baseURL + url;\n",
       "fetch(url).then(function(res) {\n",
       "    if (res.status === 404) {\n",
       "        div.innerHTML = 'Install QIIME 2 Jupyter extension with:<br />' +\n",
       "                        '<code>jupyter serverextension enable --py qiime2' +\n",
       "                        ' --sys-prefix</code><br />then restart your server.' +\n",
       "                        '<br /><br />(Interactive output not available on ' +\n",
       "                        'static notebook viewer services like nbviewer.)';\n",
       "    } else if (res.status === 409) {\n",
       "        div.innerHTML = 'Visualization no longer in scope. Re-run this cell' +\n",
       "                        ' to see the visualization.';\n",
       "    } else if (res.ok) {\n",
       "        url = res.url;\n",
       "        div.innerHTML = '<iframe src=\\'' + url + '\\' style=\\'' +\n",
       "                        'width: 100%; height: 700px; border: 0;\\'>' +\n",
       "                        '</iframe><hr />Open in a: <a href=\\'' + url + '\\'' +\n",
       "                        ' target=\\'_blank\\'>new window</a>'\n",
       "    } else {\n",
       "        div.innerHTML = 'Something has gone wrong. Check notebook server for' +\n",
       "                        ' errors.';\n",
       "    }\n",
       "});\n",
       "})(this.parentElement, '/qiime2/redirect?location=/var/folders/t7/vhs8v0wd2xqb851ps1hzn0mm0000gn/T/qiime2-archive-5ciwtm7b')\" src=\"data:image/gif;base64,R0lGODlhAQABAIAAAP///wAAACH5BAEAAAAALAAAAAABAAEAAAICRAEAOw==\" /></div>"
      ],
      "text/plain": [
       "<visualization: Visualization uuid: 49fcd876-d445-49ba-b56b-833ad7dbe958>"
      ]
     },
     "execution_count": 142,
     "metadata": {},
     "output_type": "execute_result"
    }
   ],
   "source": [
    "#For feature-classifier\n",
    "viz = Visualization.load('taxonomy-silva.qzv')\n",
    "viz"
   ]
  },
  {
   "cell_type": "markdown",
   "metadata": {},
   "source": [
    "### Filter out Mitochondria and Chloroplast"
   ]
  },
  {
   "cell_type": "code",
   "execution_count": null,
   "metadata": {},
   "outputs": [],
   "source": [
    "! qiime taxa filter-table \\\n",
    "  --i-table filtered-table.qza \\\n",
    "  --i-taxonomy taxonomy-silva.qza \\\n",
    "  --p-exclude mitochondria,chloroplast \\\n",
    "  --o-filtered-table noMito_noChloro-filtered-table.qza "
   ]
  },
  {
   "cell_type": "markdown",
   "metadata": {},
   "source": [
    "## Filter the tables based on study"
   ]
  },
  {
   "cell_type": "code",
   "execution_count": 29,
   "metadata": {},
   "outputs": [],
   "source": [
    "%mkdir breastfeeding\n",
    "%mkdir ibs\n",
    "%mkdir blanks\n",
    "%mkdir bariatric\n",
    "%mkdir ayahuasca"
   ]
  },
  {
   "cell_type": "markdown",
   "metadata": {},
   "source": [
    "Then I created medatadata files for each study/blanks in the respective directory."
   ]
  },
  {
   "cell_type": "code",
   "execution_count": 31,
   "metadata": {},
   "outputs": [
    {
     "name": "stdout",
     "output_type": "stream",
     "text": [
      "\u001b[32mSaved FeatureTable[Frequency] to: breastfeeding/noMito_noChloro-filtered-table.qza\u001b[0m\r\n"
     ]
    }
   ],
   "source": [
    "! qiime feature-table filter-samples \\\n",
    "--i-table noMito_noChloro-filtered-table.qza \\\n",
    "--m-metadata-file breastfeeding/metadata-breastfeeding.txt \\\n",
    "--o-filtered-table breastfeeding/noMito_noChloro-filtered-table.qza"
   ]
  },
  {
   "cell_type": "code",
   "execution_count": 32,
   "metadata": {},
   "outputs": [
    {
     "name": "stdout",
     "output_type": "stream",
     "text": [
      "\u001b[32mSaved FeatureTable[Frequency] to: ibs/noMito_noChloro-filtered-table.qza\u001b[0m\r\n"
     ]
    }
   ],
   "source": [
    "! qiime feature-table filter-samples \\\n",
    "--i-table noMito_noChloro-filtered-table.qza \\\n",
    "--m-metadata-file ibs/metadata-ibs.txt \\\n",
    "--o-filtered-table ibs/noMito_noChloro-filtered-table.qza"
   ]
  },
  {
   "cell_type": "code",
   "execution_count": 33,
   "metadata": {},
   "outputs": [
    {
     "name": "stdout",
     "output_type": "stream",
     "text": [
      "\u001b[32mSaved FeatureTable[Frequency] to: blanks/noMito_noChloro-filtered-table.qza\u001b[0m\r\n"
     ]
    }
   ],
   "source": [
    "! qiime feature-table filter-samples \\\n",
    "--i-table noMito_noChloro-filtered-table.qza \\\n",
    "--m-metadata-file blanks/metadata-blanks.txt \\\n",
    "--o-filtered-table blanks/noMito_noChloro-filtered-table.qza"
   ]
  },
  {
   "cell_type": "code",
   "execution_count": 34,
   "metadata": {},
   "outputs": [
    {
     "name": "stdout",
     "output_type": "stream",
     "text": [
      "\u001b[32mSaved FeatureTable[Frequency] to: bariatric/noMito_noChloro-filtered-table.qza\u001b[0m\r\n"
     ]
    }
   ],
   "source": [
    "! qiime feature-table filter-samples \\\n",
    "--i-table noMito_noChloro-filtered-table.qza \\\n",
    "--m-metadata-file bariatric/metadata-bariatric.txt \\\n",
    "--o-filtered-table bariatric/noMito_noChloro-filtered-table.qza"
   ]
  },
  {
   "cell_type": "code",
   "execution_count": 35,
   "metadata": {},
   "outputs": [
    {
     "name": "stdout",
     "output_type": "stream",
     "text": [
      "\u001b[32mSaved FeatureTable[Frequency] to: ayahuasca/noMito_noChloro-filtered-table.qza\u001b[0m\r\n"
     ]
    }
   ],
   "source": [
    "! qiime feature-table filter-samples \\\n",
    "--i-table noMito_noChloro-filtered-table.qza \\\n",
    "--m-metadata-file ayahuasca/metadata-ayahuasca.txt \\\n",
    "--o-filtered-table ayahuasca/noMito_noChloro-filtered-table.qza"
   ]
  },
  {
   "cell_type": "code",
   "execution_count": 40,
   "metadata": {
    "scrolled": false
   },
   "outputs": [
    {
     "name": "stdout",
     "output_type": "stream",
     "text": [
      "\u001b[32mSaved Visualization to: ayahuasca/noMito_noChloro-filtered-table.qzv\u001b[0m\r\n"
     ]
    }
   ],
   "source": [
    "!qiime feature-table summarize \\\n",
    "--i-table ayahuasca/noMito_noChloro-filtered-table.qza \\\n",
    "--m-sample-metadata-file ayahuasca/metadata-ayahuasca.txt \\\n",
    "--o-visualization ayahuasca/noMito_noChloro-filtered-table.qzv"
   ]
  },
  {
   "cell_type": "markdown",
   "metadata": {},
   "source": [
    "## Filtering the taxa files is not necessary, since this works! "
   ]
  },
  {
   "cell_type": "code",
   "execution_count": 41,
   "metadata": {},
   "outputs": [
    {
     "name": "stdout",
     "output_type": "stream",
     "text": [
      "\u001b[32mSaved Visualization to: ayahuasca/taxa-barplot.qzv\u001b[0m\r\n"
     ]
    }
   ],
   "source": [
    "! qiime taxa barplot \\\n",
    "--i-table ayahuasca/noMito_noChloro-filtered-table.qza \\\n",
    "--i-taxonomy taxonomy-silva.qza \\\n",
    "--m-metadata-file ayahuasca/metadata-ayahuasca.txt \\\n",
    "--o-visualization ayahuasca/taxa-barplot.qzv"
   ]
  },
  {
   "cell_type": "markdown",
   "metadata": {},
   "source": [
    "### Check filtering statistics"
   ]
  },
  {
   "cell_type": "code",
   "execution_count": 10,
   "metadata": {},
   "outputs": [
    {
     "name": "stdout",
     "output_type": "stream",
     "text": [
      "filtered by sepp: 0.0\n",
      "filtered by Mito/Chloro: 811.0\n"
     ]
    }
   ],
   "source": [
    "dada2_table = Artifact.load('dada2-results/table.qza')\n",
    "filtered_table = Artifact.load('filtered-table.qza')\n",
    "no_M_C_table = Artifact.load('noMito_noChloro-filtered-table.qza')\n",
    "\n",
    "df_tab = dada2_table.view(pd.DataFrame)\n",
    "df_filt = filtered_table.view(pd.DataFrame)\n",
    "df_MC = no_M_C_table.view(pd.DataFrame)\n",
    "\n",
    "tables = ['df_tab', 'df_filt', 'df_MC']\n",
    "\n",
    "\n",
    "total_frequencies = {x: globals()[x].values.sum() for x in tables}\n",
    "\n",
    "\n",
    "print('filtered by sepp: {}'.format(total_frequencies['df_tab']-total_frequencies['df_filt']))\n",
    "print('filtered by Mito/Chloro: {}'.format(total_frequencies['df_filt']-total_frequencies['df_MC']))"
   ]
  },
  {
   "cell_type": "markdown",
   "metadata": {},
   "source": [
    "### Filter out bloomed taxa in samples that have been shipped \n",
    "\n",
    "**This is only necessary if any samples have been shipped! The rest of the pipeline doesn't use this, so if you are using this, you'll have to change any instance of** `noMito_noChloro-filtered-table.qza` **to** `Merged_NoBloomShipped_noMitoChloro-filtered-table.qza`"
   ]
  },
  {
   "cell_type": "markdown",
   "metadata": {},
   "source": [
    "#### Divide the feature table into separate feature tables: one for the shipped samples and one for not shipped samples"
   ]
  },
  {
   "cell_type": "code",
   "execution_count": null,
   "metadata": {},
   "outputs": [],
   "source": [
    "! qiime feature-table filter-samples \\\n",
    "  --i-table noMitoChloro-filtered-table.qza \\\n",
    "  --m-metadata-file metadata.tsv \\\n",
    "  --p-where \"[Shipped]='Yes'\" \\\n",
    "  --o-filtered-table Shipped_noMitoChloro-filtered-table.qza "
   ]
  },
  {
   "cell_type": "code",
   "execution_count": null,
   "metadata": {},
   "outputs": [],
   "source": [
    "! qiime feature-table filter-samples \\\n",
    "  --i-table noMitoChloro-filtered-table.qza \\\n",
    "  --m-metadata-file metadata.tsv \\\n",
    "  --p-where \"[Shipped]='No'\" \\\n",
    "  --o-filtered-table NotShipped_noMitoChloro-filtered-table.qza "
   ]
  },
  {
   "cell_type": "markdown",
   "metadata": {},
   "source": [
    "#### Remove the sequences that the AGP team determined bloom during shipping\n",
    "The file was generated by cross referencing the sequences that the AGP determined bloomed during shipping to the sequences produced in our feature table to determine the OTU IDs to be removed. "
   ]
  },
  {
   "cell_type": "code",
   "execution_count": null,
   "metadata": {},
   "outputs": [],
   "source": [
    "! qiime feature-table filter-features \\\n",
    "  --i-table Shipped_noMitoChloro-filtered-table.qza \\\n",
    "  --m-metadata-file Bloom_OTU_ID_Index.txt \\\n",
    "  --p-exclude-ids \\\n",
    "  --o-filtered-table noBloom_Shipped_noMitoChloro-filtered-table.qza"
   ]
  },
  {
   "cell_type": "markdown",
   "metadata": {},
   "source": [
    "#### Merge the de-bloomed shipped samples feature table with the not shipped samples feature table"
   ]
  },
  {
   "cell_type": "code",
   "execution_count": null,
   "metadata": {},
   "outputs": [],
   "source": [
    "! qiime feature-table merge \\\n",
    "  --i-tables noBloom_Shipped_noMitoChloro-filtered-table.qza \\\n",
    "  --i-tables Not_Shipped_noMitoChloro-filtered-table.qza \\\n",
    "  --o-merged-table Merged_NoBloomShipped_noMitoChloro-filtered-table.qza"
   ]
  },
  {
   "cell_type": "markdown",
   "metadata": {},
   "source": [
    "## Analysis\n",
    "### Core diversity metrics\n",
    "\n",
    "The `sampling-depth` parameter should ideally be above 10,000. I typically set it to be just under the lowest feature count that is over 10,000 (check out the \"Interactive Sample Detail\" tab from `dada2-results/table.qzv`). This might exclude a few samples. If the samples have less than 10,000 reads, though, you probably don't want them moving forward. This will create many files that can be used when analyzing diversity changes. QIIME2's Moving Pictures tutorial gives concise explainations of what each metric is:\n",
    "\n",
    "**Alpha diversity**\n",
    "\n",
    "- Shannon’s diversity index (a quantitative measure of community richness)\n",
    "\n",
    "- Observed Features (a qualitative measure of community richness)\n",
    "\n",
    "- Faith’s Phylogenetic Diversity (a qualitiative measure of community richness that incorporates phylogenetic relationships between the features)\n",
    "\n",
    "- Evenness (or Pielou’s Evenness; a measure of community evenness)\n",
    "\n",
    "**Beta diversity**\n",
    "\n",
    "- Jaccard distance (a qualitative measure of community dissimilarity)\n",
    "\n",
    "- Bray-Curtis distance (a quantitative measure of community dissimilarity)\n",
    "\n",
    "- Unweighted UniFrac distance (a qualitative measure of community dissimilarity that incorporates phylogenetic relationships between the features)\n",
    "\n",
    "- Weighted UniFrac distance (a quantitative measure of community dissimilarity that incorporates phylogenetic relationships between the features)"
   ]
  },
  {
   "cell_type": "code",
   "execution_count": null,
   "metadata": {},
   "outputs": [],
   "source": [
    "! qiime diversity core-metrics-phylogenetic \\\n",
    "  --i-phylogeny insertion-tree.qza \\\n",
    "  --i-table noMito_noChloro-filtered-table.qza \\\n",
    "  --p-sampling-depth 10000 \\\n",
    "  --m-metadata-file metadata.tsv \\\n",
    "  --output-dir core-diversity-results"
   ]
  },
  {
   "cell_type": "markdown",
   "metadata": {},
   "source": [
    "### Generate alpha and beta diversity rarefaction plots for reference\n",
    "\n",
    "From Moving Pictures tutorial: The visualization will have two plots. The top plot is an alpha rarefaction plot, and is primarily used to determine if the richness of the samples has been fully observed or sequenced. If the lines in the plot appear to “level out” (i.e., approach a slope of zero) at some sampling depth along the x-axis, that suggests that collecting additional sequences beyond that sampling depth would not be likely to result in the observation of additional features. If the lines in a plot don’t level out, this may be because the richness of the samples hasn’t been fully observed yet (because too few sequences were collected), or it could be an indicator that a lot of sequencing error remains in the data (which is being mistaken for novel diversity)."
   ]
  },
  {
   "cell_type": "code",
   "execution_count": null,
   "metadata": {},
   "outputs": [],
   "source": [
    "! qiime diversity alpha-rarefaction \\\n",
    "  --i-table noMito_noChloro-filtered-table.qza \\\n",
    "  --i-phylogeny insertion-tree.qza \\\n",
    "  --p-max-depth 20000 \\\n",
    "  --o-visualization core-diversity-results/alpha-rarefaction.qzv"
   ]
  },
  {
   "cell_type": "code",
   "execution_count": null,
   "metadata": {},
   "outputs": [],
   "source": [
    "viz = Visualization.load('core-diversity-results/alpha-rarefaction.qzv')\n",
    "viz"
   ]
  },
  {
   "cell_type": "code",
   "execution_count": null,
   "metadata": {},
   "outputs": [],
   "source": [
    "! qiime diversity beta-rarefaction \\\n",
    "  --i-table noMito_noChloro-filtered-table.qza \\\n",
    "  --p-metric unweighted_unifrac \\\n",
    "  --p-clustering-method upgma \\\n",
    "  --m-metadata-file metadata.tsv \\\n",
    "  --p-sampling-depth 20000 \\\n",
    "  --i-phylogeny insertion-tree.qza \\\n",
    "  --o-visualization core-diversity-results/beta-rarefaction.qzv"
   ]
  },
  {
   "cell_type": "code",
   "execution_count": null,
   "metadata": {},
   "outputs": [],
   "source": [
    "viz = Visualization.load('core-diversity-results/beta-rarefaction.qzv')\n",
    "viz"
   ]
  },
  {
   "cell_type": "markdown",
   "metadata": {},
   "source": [
    "### Core diversity analyses\n",
    "\n",
    "There are a two main options here:\n",
    "1. If you're just interested in testing a few metadata variables with alpha and beta diversity, you can test each individually. This will require running the diversity testing command for each metric and (if testing beta diversity) each variable. Resulting visualizations must be opened individually.\n",
    "\n",
    "\n",
    "2. If you're interested in testing many metadata variables with multiple metrics, I've provided code below to do so. It will run tests on all metadata columns and concatenate the results into a few tables. This method is more computationally taxing, and it does not automatically produce boxplots. However, the QIIME2-generated boxplots are a bit ugly anyway. If you don't want to run it on *all* variables, feel free to make another metadata file with only the columns you want to test.\n",
    "\n",
    "Option 1 is better for specific hypothesis testing, option 2 is better if you're doing more of an exploratory study, or if you want all of the statistical testing results in the same place."
   ]
  },
  {
   "cell_type": "markdown",
   "metadata": {},
   "source": [
    "#### Option 1 examples\n",
    "\n",
    "Notes:\n",
    "\n",
    "Alpha diversity tests against all categorical metadata variables. These examples run the test with Faith's \n",
    "phylogenetic diversity, but if you would like to use a different diversity metric, you'll have to change the \n",
    "`--i-alpha-diversity` argument\n",
    "\n",
    "The `--p-pairwise` argument in beta significance testing can make things quite slow if there are many groups in the variable you're testing"
   ]
  },
  {
   "cell_type": "code",
   "execution_count": null,
   "metadata": {},
   "outputs": [],
   "source": [
    "! qiime diversity alpha-group-significance \\\n",
    "--i-alpha-diversity core-diversity-results/faith_pd_vector.qza \\\n",
    "--m-metadata-file metadata.tsv \\\n",
    "--o-visualization core-diversity-results/faith-pd-group-significance.qzv"
   ]
  },
  {
   "cell_type": "code",
   "execution_count": null,
   "metadata": {},
   "outputs": [],
   "source": [
    "! qiime diversity alpha-correlation \\\n",
    "--i-alpha-diversity core-diversity-results/faith_pd_vector.qza\n",
    "--m-metadata-file metadata.tsv\n",
    "--o-visualization core-diversity-results/faith-pd-correlation.qzv"
   ]
  },
  {
   "cell_type": "code",
   "execution_count": null,
   "metadata": {},
   "outputs": [],
   "source": [
    "! qiime diversity beta-group-significance \\\n",
    "--i-distance-matrix core-diversity-results/unweighted_unifrac_distance_matrix.qza \\\n",
    "--m-metadata-file metadata.tsv \\\n",
    "--m-metadata-column COLUMNOFINTEREST \\\n",
    "--o-visualization core-diversity-results/unweighted-unifrac-COLUMN-significance.qzv \\\n",
    "--p-pairwise"
   ]
  },
  {
   "cell_type": "code",
   "execution_count": null,
   "metadata": {},
   "outputs": [],
   "source": [
    "! qiime diversity beta-correlation \\\n",
    "--i-distance-matrix core-diversity-results/unweighted_unifrac_distance_matrix.qza \\\n",
    "--m-metadata-file metadata.tsv \\\n",
    "--m-metadata-column COLUMNOFINTEREST \\\n",
    "--o-visualization core-diversity-results/unweighted-unifrac-COLUMN-group-significance.qzv \\"
   ]
  },
  {
   "cell_type": "markdown",
   "metadata": {},
   "source": [
    "#### Option 2\n",
    "\n",
    "Starts by downloading the scripts from GitHub if you don't already have them."
   ]
  },
  {
   "cell_type": "code",
   "execution_count": 28,
   "metadata": {
    "collapsed": true
   },
   "outputs": [
    {
     "name": "stdout",
     "output_type": "stream",
     "text": [
      "--2021-01-24 21:13:51--  https://raw.githubusercontent.com/sterrettJD/QIIME2-diversity-significance-exports/master/alpha-sigcorr-qiime.py\n",
      "Resolving raw.githubusercontent.com (raw.githubusercontent.com)... 151.101.68.133\n",
      "Connecting to raw.githubusercontent.com (raw.githubusercontent.com)|151.101.68.133|:443... connected.\n",
      "HTTP request sent, awaiting response... 200 OK\n",
      "Length: 4268 (4.2K) [text/plain]\n",
      "Saving to: ‘alpha-sigcorr-qiime.py.1’\n",
      "\n",
      "alpha-sigcorr-qiime 100%[===================>]   4.17K  --.-KB/s    in 0s      \n",
      "\n",
      "2021-01-24 21:13:51 (10.4 MB/s) - ‘alpha-sigcorr-qiime.py.1’ saved [4268/4268]\n",
      "\n",
      "--2021-01-24 21:13:51--  https://raw.githubusercontent.com/sterrettJD/QIIME2-diversity-significance-exports/master/beta-sig-corr-qiime.py\n",
      "Resolving raw.githubusercontent.com (raw.githubusercontent.com)... 151.101.68.133\n",
      "Connecting to raw.githubusercontent.com (raw.githubusercontent.com)|151.101.68.133|:443... connected.\n",
      "HTTP request sent, awaiting response... 200 OK\n",
      "Length: 5246 (5.1K) [text/plain]\n",
      "Saving to: ‘beta-sig-corr-qiime.py’\n",
      "\n",
      "beta-sig-corr-qiime 100%[===================>]   5.12K  --.-KB/s    in 0s      \n",
      "\n",
      "2021-01-24 21:13:51 (11.8 MB/s) - ‘beta-sig-corr-qiime.py’ saved [5246/5246]\n",
      "\n"
     ]
    }
   ],
   "source": [
    "! wget https://raw.githubusercontent.com/sterrettJD/QIIME2-diversity-significance-exports/master/alpha-sigcorr-qiime.py\n",
    "! wget https://raw.githubusercontent.com/sterrettJD/QIIME2-diversity-significance-exports/master/beta-sig-corr-qiime.py"
   ]
  },
  {
   "cell_type": "markdown",
   "metadata": {},
   "source": [
    "**From the terminal**, run: \n",
    "\n",
    "`python alpha-sigcorr-qiime.py` \n",
    "\n",
    "and \n",
    "\n",
    "`python beta-sig-corr-qiime.py` \n",
    "\n",
    "\n",
    "The scripts will prompt you to enter \n",
    "- your metadata filepath\n",
    "- your feature table (in this case, noMito_noChloro-filtered-table.qza)\n",
    "- the rarefaction depth\n",
    "- your phylogenetic tree (insertion-tree.qza)\n",
    "\n",
    "Beta diversity testing will create the following directories:\n",
    "- beta_sig_results\n",
    "- beta_corr_results\n",
    "\n",
    "\n",
    "Those directories will contain many files, but the statistical results will be in the .csv files. All of the other sub-directories contain scatterplots generated by QIIME2, but if you want to make your own I recommend running the \"cleanup\" code below.\n",
    "\n",
    "\n",
    "Notes:\n",
    "\n",
    "The scripts cannot handle any metadata variables with `:` or `/` in the name, and the output is rather verbose (so be prepared). \n",
    "\n",
    "There might be a DataConversionWarning from sklearn, this is normal, and there may also be RuntimeWarning from skbio if there are negative eigenvalues, but if they are small in magnitude, you should be okay.  \n",
    "\n",
    "You might get the following warning multiple times during beta correlation testing: `RuntimeWarning: More than 20 figures have been opened. Figures created through the pyplot interface (matplotlib.pyplot.figure) are retained until explicitly closed and may consume too much memory.` This is because QIIME2 generates a new matplotlib figure for each variable. These should all close after the script is done running. I'm planning to update these to just do the testing without using QIIME2 because it'll be less memory-intensive. Hopefully these updates will be in place by mid-February, 2021.\n",
    "\n",
    "I'll eventually clean these up to be modules that you can just call the functions from, but right now, they're just scripts to run. "
   ]
  },
  {
   "cell_type": "code",
   "execution_count": 30,
   "metadata": {},
   "outputs": [],
   "source": [
    "%cd beta_corr_results\n",
    "! mv *.csv ..\n",
    "%cd ../beta_sig_results\n",
    "! mv *.csv ..\n",
    "%cd ..\n",
    "! rm -r beta_corr_results\n",
    "! rm -r beta_sig_results"
   ]
  },
  {
   "cell_type": "markdown",
   "metadata": {},
   "source": [
    "## Adonis beta diversity test\n",
    "\n",
    "Adonis is a permutational non-parametric test of variance that computes an R2 value (effect size) which shows the percentage of variation explained by the supplied mapping file category, as well as a p-value to determine the statistical significance. \n",
    "\n",
    "It's particularly useful for fitting linear models to distance matrices, so you can use formulas such as `beta_div ~ age + sex`, but you only have to input the independent terms after the `~`. These can be continuous variables or factors. E.g., the formula `treatment+block` would test whether the input distance matrix partitions based on \"treatment\" and \"block\" sample metadata. The formula `treatment*block` would test both of those effects as well as their interaction. Enclose formulae in quotes to avoid unpleasant surprises.\n",
    "\n",
    "Adonis is implemented from the R package vegan, so it can also be done in R, but QIIME2 keeps track of the provenance, which can be very useful for journal submissions.\n",
    "\n",
    "**MISSING METADATA ENTRIES WILL BREAK ADONIS**, beware."
   ]
  },
  {
   "cell_type": "code",
   "execution_count": null,
   "metadata": {},
   "outputs": [],
   "source": [
    "! qiime diversity adonis \\\n",
    "--i-distance-matrix core-diversity-results/unweighted_unifrac_distance_matrix.qza \\\n",
    "--m-metadata-file metadata.tsv \\\n",
    "--p-formula COLUMN_OF_INTEREST+YOU_CAN_DO_MULTIPLE_COLS*ANY_MODEL_FORMULA_WILL_WORK_HERE \\\n",
    "--o-visualization core-diversity-results/unweighted-unifrac-COLUMNS-adonis.qzv \\"
   ]
  },
  {
   "cell_type": "markdown",
   "metadata": {},
   "source": [
    "## PERMDSIP\n",
    "\n",
    "PERMDISP compares the dispersion of two groups. It does this by \n",
    "1. Calculating each sample's distance to the centroid of its group\n",
    "2. Comparing the average distance to the centroid for each group via an ANOVA\n",
    "3. Calculating p value via permutation\n",
    "\n",
    "PERMDISP is often refered to as a multivariate analogue of Levene’s test for homogeneity of multivariate variance, and the null hypothesis is that each group has an equal dispersion.\n",
    "\n",
    "This is equivalent to the betadisper function from the R package vegan."
   ]
  },
  {
   "cell_type": "code",
   "execution_count": null,
   "metadata": {},
   "outputs": [],
   "source": [
    "! qiime diversity beta-group-significance \\\n",
    "--i-distance-matrix core-diversity-results/unweighted_unifrac_distance_matrix.qza \\\n",
    "--m-metadata-file metadata.tsv \\\n",
    "--m-metadata-column COLUMN_OF_INTEREST \\\n",
    "--p-method 'permdisp' \\\n",
    "--o-visualization core-diversity-results/unweighted_unifrac_COLUMN_permdisp.qzv"
   ]
  },
  {
   "cell_type": "markdown",
   "metadata": {},
   "source": [
    "## Taxa barplot"
   ]
  },
  {
   "cell_type": "code",
   "execution_count": null,
   "metadata": {},
   "outputs": [],
   "source": [
    "! qiime taxa barplot \\\n",
    "--i-table noMito_noChloro-filtered-table.qza \\\n",
    "--i-taxonomy taxonomy-silva.qza \\\n",
    "--m-metadata-file metadata.tsv \\\n",
    "--o-visualization taxa-barplot.qzv"
   ]
  },
  {
   "cell_type": "code",
   "execution_count": null,
   "metadata": {},
   "outputs": [],
   "source": [
    "viz = Visualization.load('taxa-barplot.qzv')\n",
    "viz"
   ]
  },
  {
   "cell_type": "markdown",
   "metadata": {},
   "source": [
    "### Generate PCoA biplot \n",
    "This needs to be done mostly separately from the core-diversity-results because of the need to collapse the taxa to the level desired to be shown in the plot. "
   ]
  },
  {
   "cell_type": "markdown",
   "metadata": {},
   "source": [
    "#### Make a table that is collapse to the taxonomic level that you want depicted in the biplot\n",
    "For this biplot we collapsed to the phyla level. We used the rarefied table that is an output for the core-diversty command to keep everything consistent with other results that would be reported. "
   ]
  },
  {
   "cell_type": "code",
   "execution_count": null,
   "metadata": {},
   "outputs": [],
   "source": [
    "! qiime taxa collapse \\\n",
    "--i-table core-diversity-results/rarefied_table.qza \\\n",
    "--i-taxonomy sepp-silva-taxonomy.qza --p-level 2 \\\n",
    "--o-collapsed-table core-diversity-results/phyla-rarefied_table.qza"
   ]
  },
  {
   "cell_type": "markdown",
   "metadata": {},
   "source": [
    "#### Make a relative frequency table from the rarefied-collapsed table "
   ]
  },
  {
   "cell_type": "code",
   "execution_count": null,
   "metadata": {},
   "outputs": [],
   "source": [
    "! qiime feature-table relative-frequency \\\n",
    "--i-table core-diversity-results/phyla-rarefied_table.qza \\\n",
    "--o-relative-frequency-table core-diversity-results/phyla-rarefied-relative-frequency-table.qza"
   ]
  },
  {
   "cell_type": "markdown",
   "metadata": {},
   "source": [
    "#### Make PCoA results artifact from the Weighted UniFrac distance matrix produced in the core-diversity analysis\n",
    "There is already weighted-unifrac-pcoa-results.qza file, but it cannot be used because there is a problem with dimension 41. Therefore it is necessary to make this separately and specify the dimension parameter to 40"
   ]
  },
  {
   "cell_type": "code",
   "execution_count": 13,
   "metadata": {},
   "outputs": [
    {
     "name": "stdout",
     "output_type": "stream",
     "text": [
      "\u001b[32mSaved PCoAResults to: core-diversity-results/weighted_unifrac_pcoa_dim40.qza\u001b[0m\r\n"
     ]
    }
   ],
   "source": [
    "! qiime diversity pcoa \\\n",
    "--i-distance-matrix core-diversity-results/weighted_unifrac_distance_matrix.qza \\\n",
    "--p-number-of-dimensions 40 \\\n",
    "--o-pcoa core-diversity-results/weighted_unifrac_pcoa_dim40.qza "
   ]
  },
  {
   "cell_type": "markdown",
   "metadata": {},
   "source": [
    "#### Make a qiime biplot artifact that is a combination of the PCoA results and the relative frequency table"
   ]
  },
  {
   "cell_type": "code",
   "execution_count": 17,
   "metadata": {},
   "outputs": [
    {
     "name": "stdout",
     "output_type": "stream",
     "text": [
      "\u001b[32mSaved PCoAResults % Properties('biplot') to: core-diversity-results/phyla-w-unifrac-biplot.qza\u001b[0m\r\n"
     ]
    }
   ],
   "source": [
    "! qiime diversity pcoa-biplot \\\n",
    "--i-pcoa core-diversity-results/weighted_unifrac_pcoa_dim40.qza \\\n",
    "--i-features core-diversity-results/phyla-rarefied-relative-frequency-table.qza \\\n",
    "--o-biplot core-diversity-results/phyla-w-unifrac-biplot.qza"
   ]
  },
  {
   "cell_type": "markdown",
   "metadata": {},
   "source": [
    "#### Make the biplot visualization"
   ]
  },
  {
   "cell_type": "code",
   "execution_count": 19,
   "metadata": {},
   "outputs": [
    {
     "name": "stdout",
     "output_type": "stream",
     "text": [
      "\u001b[32mSaved Visualization to: core-diversity-results/phyla-w-unifrac-biplot.qzv\u001b[0m\r\n"
     ]
    }
   ],
   "source": [
    "! qiime emperor biplot \\\n",
    "--i-biplot core-diversity-results/phyla-w-unifrac-biplot.qza \\\n",
    "--m-sample-metadata-file metadata.tsv \\\n",
    "--o-visualization core-diversity-results/phyla-w-unifrac-biplot.qzv"
   ]
  },
  {
   "cell_type": "code",
   "execution_count": 145,
   "metadata": {},
   "outputs": [
    {
     "data": {
      "text/html": [
       "<div><img onload=\"(function(div, url){\n",
       "if (typeof require !== 'undefined') {\n",
       "    var baseURL = require.toUrl('').split('/').slice(0, -2).join('/');\n",
       "} else {\n",
       "    var baseURL = JSON.parse(\n",
       "        document.getElementById('jupyter-config-data').innerHTML\n",
       "    ).baseUrl.slice(0, -1);\n",
       "}\n",
       "url = baseURL + url;\n",
       "fetch(url).then(function(res) {\n",
       "    if (res.status === 404) {\n",
       "        div.innerHTML = 'Install QIIME 2 Jupyter extension with:<br />' +\n",
       "                        '<code>jupyter serverextension enable --py qiime2' +\n",
       "                        ' --sys-prefix</code><br />then restart your server.' +\n",
       "                        '<br /><br />(Interactive output not available on ' +\n",
       "                        'static notebook viewer services like nbviewer.)';\n",
       "    } else if (res.status === 409) {\n",
       "        div.innerHTML = 'Visualization no longer in scope. Re-run this cell' +\n",
       "                        ' to see the visualization.';\n",
       "    } else if (res.ok) {\n",
       "        url = res.url;\n",
       "        div.innerHTML = '<iframe src=\\'' + url + '\\' style=\\'' +\n",
       "                        'width: 100%; height: 700px; border: 0;\\'>' +\n",
       "                        '</iframe><hr />Open in a: <a href=\\'' + url + '\\'' +\n",
       "                        ' target=\\'_blank\\'>new window</a>'\n",
       "    } else {\n",
       "        div.innerHTML = 'Something has gone wrong. Check notebook server for' +\n",
       "                        ' errors.';\n",
       "    }\n",
       "});\n",
       "})(this.parentElement, '/qiime2/redirect?location=/var/folders/t7/vhs8v0wd2xqb851ps1hzn0mm0000gn/T/qiime2-archive-qd0alci8')\" src=\"data:image/gif;base64,R0lGODlhAQABAIAAAP///wAAACH5BAEAAAAALAAAAAABAAEAAAICRAEAOw==\" /></div>"
      ],
      "text/plain": [
       "<visualization: Visualization uuid: f068b1f8-ad90-4048-93bb-7c9b7570ca02>"
      ]
     },
     "execution_count": 145,
     "metadata": {},
     "output_type": "execute_result"
    }
   ],
   "source": [
    "viz = Visualization.load('core-diversity-results/phyla-w-unifrac-biplot.qzv')\n",
    "viz"
   ]
  },
  {
   "cell_type": "markdown",
   "metadata": {},
   "source": [
    "## Perform ANCOM analysis \n",
    "Perform ANCOM at the phylum and genus levels. Use the collapsed rarefied feature tables that were created for the biplots above using the `qiime taxa collapse` command. Note that ANCOM is performed one meta data varaible at a time and it requires the variable to be categorical. \n",
    "\n",
    "If you'd like to perform ANCOM on another level of taxonomy (such as class), run the following command:\n",
    "\n",
    "`! qiime taxa collapse \\\n",
    "--i-table core-diversity-results/rarefied_table.qza \\\n",
    "--i-taxonomy sepp-silva-taxonomy.qza --p-level 3 \\\n",
    "--o-collapsed-table core-diversity-results/class-rarefied_table.qza`"
   ]
  },
  {
   "cell_type": "markdown",
   "metadata": {},
   "source": [
    "#### Make a feature table with pseudo counts\n",
    "This is a necessary intermediate step "
   ]
  },
  {
   "cell_type": "code",
   "execution_count": null,
   "metadata": {},
   "outputs": [],
   "source": [
    "! qiime composition add-pseudocount\n",
    "--i-table phyla-rarefied_table.qza \\\n",
    "--o-composition-table phyla-pseudo-rarefied_table.qza"
   ]
  },
  {
   "cell_type": "markdown",
   "metadata": {},
   "source": [
    "#### Perform ANCOM "
   ]
  },
  {
   "cell_type": "code",
   "execution_count": null,
   "metadata": {},
   "outputs": [],
   "source": [
    "qiime composition ancom \n",
    "--i-table core-diversity-results/phyla-pseudo-rarefied_table.qza \\ \n",
    "--m-metadata-file metadata.tsv \\\n",
    "--m-metadata-column COLUMNOFINTEREST \\\n",
    "--o-visualization core-diversity-results/ancom-phyla-COLUMN.qzv"
   ]
  },
  {
   "cell_type": "code",
   "execution_count": null,
   "metadata": {},
   "outputs": [],
   "source": [
    "viz = Visualization.load('ancom-phyla-COLUMN.qzv')\n",
    "viz"
   ]
  },
  {
   "cell_type": "markdown",
   "metadata": {},
   "source": [
    "## Longitudinal Analysis\n",
    "\n",
    "I've done longitudinal beta diversity analysis before, but not with QIIME2, so I'm not incredibly familiar with the intricacies of this plugin. It seems to work well and have nice features from what I've seen though. I haven't had a chance to test this because I don't have longitudinal data formated as QIIME2 files.\n",
    "\n",
    "To use this, your data must be in long format, not wide format. See [here](https://www.theanalysisfactor.com/wide-and-long-data/) for an example.\n",
    "\n",
    "If these plots are not satisfactory or use a different diversity index than desired, I can supply some Python code to make volatility plots."
   ]
  },
  {
   "cell_type": "code",
   "execution_count": null,
   "metadata": {},
   "outputs": [],
   "source": [
    "! qiime longitudinal feature-volatility \\\n",
    "--i-table noMito_noChloro-filtered-table.qza \\\n",
    "--m-metadata metadata.tsv \\\n",
    "--p-state-column TIMEPOINT \\\n",
    "--p-individual-id-column PARTICIPANT \\\n",
    "--p-missing-samples 'error' \\#OR 'ignore' if you don't want it to break with missing samples\n",
    "--output-dir volatility-pipeline-results"
   ]
  },
  {
   "cell_type": "markdown",
   "metadata": {},
   "source": [
    "## Specific taxa testing\n",
    "### Tidying the taxonomy on the dataframe"
   ]
  },
  {
   "cell_type": "code",
   "execution_count": 91,
   "metadata": {},
   "outputs": [],
   "source": [
    "tax = Artifact.load('taxonomy-silva.qza')\n",
    "tax_df = tax.view(pd.DataFrame)\n",
    "\n",
    "feat = Artifact.load('noMito_noChloro-filtered-table.qza')\n",
    "feat_df = feat.view(pd.DataFrame)"
   ]
  },
  {
   "cell_type": "code",
   "execution_count": 92,
   "metadata": {},
   "outputs": [],
   "source": [
    "feat_df.loc['taxonomy'] = tax_df['Taxon']"
   ]
  },
  {
   "cell_type": "code",
   "execution_count": 93,
   "metadata": {},
   "outputs": [],
   "source": [
    "def taxonomy_splitter(fulltax):\n",
    "    fulltax = [x[3:] for x in fulltax.split('; ')]\n",
    "    try:\n",
    "        domain = fulltax[0]\n",
    "    except IndexError:\n",
    "        domain = 'NA'\n",
    "        \n",
    "    try:\n",
    "        phylum = fulltax[1]\n",
    "    except IndexError:\n",
    "        phylum = 'NA'\n",
    "        \n",
    "    try:\n",
    "        clas = fulltax[2]\n",
    "    except IndexError:\n",
    "        clas = 'NA'\n",
    "    \n",
    "    try:\n",
    "        order = fulltax[3]\n",
    "    except IndexError:\n",
    "        order = 'NA'\n",
    "        \n",
    "    try:\n",
    "        family = fulltax[4]\n",
    "    except IndexError:\n",
    "        family = 'NA'\n",
    "        \n",
    "    try:\n",
    "        genus = fulltax[5]\n",
    "    except IndexError:\n",
    "        genus = 'NA'\n",
    "    \n",
    "    try:\n",
    "        species = fulltax[6]\n",
    "    except IndexError:\n",
    "        species = 'NA'\n",
    "        \n",
    "    return domain, phylum, clas, order, family, genus, species"
   ]
  },
  {
   "cell_type": "code",
   "execution_count": 94,
   "metadata": {},
   "outputs": [],
   "source": [
    "feat_df.loc['tax_split'] = feat_df.loc['taxonomy'].apply(taxonomy_splitter)"
   ]
  },
  {
   "cell_type": "code",
   "execution_count": 95,
   "metadata": {},
   "outputs": [],
   "source": [
    "feat_df.loc['Domain'] = feat_df.loc['tax_split'].apply(lambda x: x[0])\n",
    "feat_df.loc['Phylum'] = feat_df.loc['tax_split'].apply(lambda x: x[1])\n",
    "feat_df.loc['Class'] = feat_df.loc['tax_split'].apply(lambda x: x[2])\n",
    "feat_df.loc['Order'] = feat_df.loc['tax_split'].apply(lambda x: x[3])\n",
    "feat_df.loc['Family'] = feat_df.loc['tax_split'].apply(lambda x: x[4])\n",
    "feat_df.loc['Genus'] = feat_df.loc['tax_split'].apply(lambda x: x[5])\n",
    "feat_df.loc['Species'] = feat_df.loc['tax_split'].apply(lambda x: x[6])\n",
    "feat_df.drop('tax_split', inplace=True)"
   ]
  },
  {
   "cell_type": "code",
   "execution_count": 96,
   "metadata": {},
   "outputs": [],
   "source": [
    "feat_df.columns = feat_df.loc['taxonomy']\n",
    "feat_df.drop('taxonomy', inplace=True)"
   ]
  },
  {
   "cell_type": "markdown",
   "metadata": {},
   "source": [
    "You can see that there are now rows for Domain through Species:"
   ]
  },
  {
   "cell_type": "code",
   "execution_count": 156,
   "metadata": {},
   "outputs": [
    {
     "data": {
      "text/html": [
       "<div>\n",
       "<style scoped>\n",
       "    .dataframe tbody tr th:only-of-type {\n",
       "        vertical-align: middle;\n",
       "    }\n",
       "\n",
       "    .dataframe tbody tr th {\n",
       "        vertical-align: top;\n",
       "    }\n",
       "\n",
       "    .dataframe thead th {\n",
       "        text-align: right;\n",
       "    }\n",
       "</style>\n",
       "<table border=\"1\" class=\"dataframe\">\n",
       "  <thead>\n",
       "    <tr style=\"text-align: right;\">\n",
       "      <th>taxonomy</th>\n",
       "      <th>d__Bacteria; p__Firmicutes; c__Clostridia; o__Lachnospirales; f__Lachnospiraceae; g__Lachnospiraceae_ND3007_group; s__metagenome</th>\n",
       "      <th>d__Bacteria; p__Firmicutes; c__Clostridia</th>\n",
       "      <th>d__Bacteria; p__Firmicutes; c__Clostridia; o__Lachnospirales; f__Lachnospiraceae</th>\n",
       "      <th>d__Bacteria; p__Firmicutes; c__Clostridia; o__Clostridia_UCG-014; f__Clostridia_UCG-014; g__Clostridia_UCG-014; s__uncultured_Acetivibrio</th>\n",
       "      <th>d__Bacteria; p__Firmicutes; c__Clostridia; o__Clostridiales; f__Clostridiaceae; g__Clostridium_sensu_stricto_1</th>\n",
       "      <th>d__Bacteria; p__Firmicutes; c__Clostridia; o__Peptococcales; f__Peptococcaceae; g__uncultured</th>\n",
       "      <th>d__Bacteria; p__Firmicutes; c__Clostridia; o__Lachnospirales; f__Lachnospiraceae; g__Lachnospiraceae_FCS020_group; s__uncultured_organism</th>\n",
       "      <th>d__Bacteria; p__Firmicutes; c__Clostridia; o__Clostridia_vadinBB60_group; f__Clostridia_vadinBB60_group; g__Clostridia_vadinBB60_group; s__uncultured_bacterium</th>\n",
       "      <th>d__Bacteria; p__Firmicutes; c__Bacilli; o__Lactobacillales; f__Streptococcaceae; g__Lactococcus</th>\n",
       "      <th>d__Bacteria; p__Firmicutes; c__Negativicutes; o__Veillonellales-Selenomonadales; f__Veillonellaceae; g__Allisonella; s__uncultured_bacterium</th>\n",
       "      <th>...</th>\n",
       "      <th>d__Bacteria; p__Firmicutes; c__Bacilli; o__RF39; f__RF39; g__RF39; s__gut_metagenome</th>\n",
       "      <th>d__Bacteria; p__Firmicutes; c__Clostridia; o__Oscillospirales; f__UCG-010; g__UCG-010; s__uncultured_bacterium</th>\n",
       "      <th>d__Bacteria; p__Firmicutes; c__Clostridia; o__Peptostreptococcales-Tissierellales; f__Peptostreptococcales-Tissierellales; g__Murdochiella; s__Murdochiella_vaginalis</th>\n",
       "      <th>d__Bacteria; p__Firmicutes; c__Clostridia; o__Clostridia_UCG-014; f__Clostridia_UCG-014; g__Clostridia_UCG-014</th>\n",
       "      <th>d__Bacteria; p__Firmicutes; c__Clostridia; o__Peptococcales; f__Peptococcaceae; g__uncultured; s__unidentified</th>\n",
       "      <th>d__Bacteria; p__Bacteroidota; c__Bacteroidia; o__Bacteroidales; f__Bacteroidaceae; g__Bacteroides</th>\n",
       "      <th>d__Bacteria; p__Firmicutes; c__Bacilli; o__Lactobacillales; f__Lactobacillaceae; g__Lactobacillus; s__Lactobacillus_iners</th>\n",
       "      <th>d__Bacteria; p__Firmicutes; c__Clostridia; o__Oscillospirales; f__Ruminococcaceae; g__Faecalibacterium</th>\n",
       "      <th>d__Bacteria; p__Bacteroidota; c__Bacteroidia; o__Bacteroidales; f__Prevotellaceae; g__Prevotella</th>\n",
       "      <th>d__Bacteria; p__Proteobacteria; c__Gammaproteobacteria; o__Enterobacterales; f__Enterobacteriaceae</th>\n",
       "    </tr>\n",
       "  </thead>\n",
       "  <tbody>\n",
       "    <tr>\n",
       "      <th>9</th>\n",
       "      <td>0</td>\n",
       "      <td>0</td>\n",
       "      <td>0.00101026</td>\n",
       "      <td>0</td>\n",
       "      <td>0</td>\n",
       "      <td>0</td>\n",
       "      <td>0</td>\n",
       "      <td>0</td>\n",
       "      <td>0</td>\n",
       "      <td>0</td>\n",
       "      <td>...</td>\n",
       "      <td>0</td>\n",
       "      <td>0</td>\n",
       "      <td>0</td>\n",
       "      <td>0</td>\n",
       "      <td>0</td>\n",
       "      <td>0</td>\n",
       "      <td>0.000292444</td>\n",
       "      <td>0</td>\n",
       "      <td>0</td>\n",
       "      <td>0</td>\n",
       "    </tr>\n",
       "    <tr>\n",
       "      <th>Domain</th>\n",
       "      <td>Bacteria</td>\n",
       "      <td>Bacteria</td>\n",
       "      <td>Bacteria</td>\n",
       "      <td>Bacteria</td>\n",
       "      <td>Bacteria</td>\n",
       "      <td>Bacteria</td>\n",
       "      <td>Bacteria</td>\n",
       "      <td>Bacteria</td>\n",
       "      <td>Bacteria</td>\n",
       "      <td>Bacteria</td>\n",
       "      <td>...</td>\n",
       "      <td>Bacteria</td>\n",
       "      <td>Bacteria</td>\n",
       "      <td>Bacteria</td>\n",
       "      <td>Bacteria</td>\n",
       "      <td>Bacteria</td>\n",
       "      <td>Bacteria</td>\n",
       "      <td>Bacteria</td>\n",
       "      <td>Bacteria</td>\n",
       "      <td>Bacteria</td>\n",
       "      <td>Bacteria</td>\n",
       "    </tr>\n",
       "    <tr>\n",
       "      <th>Phylum</th>\n",
       "      <td>Firmicutes</td>\n",
       "      <td>Firmicutes</td>\n",
       "      <td>Firmicutes</td>\n",
       "      <td>Firmicutes</td>\n",
       "      <td>Firmicutes</td>\n",
       "      <td>Firmicutes</td>\n",
       "      <td>Firmicutes</td>\n",
       "      <td>Firmicutes</td>\n",
       "      <td>Firmicutes</td>\n",
       "      <td>Firmicutes</td>\n",
       "      <td>...</td>\n",
       "      <td>Firmicutes</td>\n",
       "      <td>Firmicutes</td>\n",
       "      <td>Firmicutes</td>\n",
       "      <td>Firmicutes</td>\n",
       "      <td>Firmicutes</td>\n",
       "      <td>Bacteroidota</td>\n",
       "      <td>Firmicutes</td>\n",
       "      <td>Firmicutes</td>\n",
       "      <td>Bacteroidota</td>\n",
       "      <td>Proteobacteria</td>\n",
       "    </tr>\n",
       "    <tr>\n",
       "      <th>Class</th>\n",
       "      <td>Clostridia</td>\n",
       "      <td>Clostridia</td>\n",
       "      <td>Clostridia</td>\n",
       "      <td>Clostridia</td>\n",
       "      <td>Clostridia</td>\n",
       "      <td>Clostridia</td>\n",
       "      <td>Clostridia</td>\n",
       "      <td>Clostridia</td>\n",
       "      <td>Bacilli</td>\n",
       "      <td>Negativicutes</td>\n",
       "      <td>...</td>\n",
       "      <td>Bacilli</td>\n",
       "      <td>Clostridia</td>\n",
       "      <td>Clostridia</td>\n",
       "      <td>Clostridia</td>\n",
       "      <td>Clostridia</td>\n",
       "      <td>Bacteroidia</td>\n",
       "      <td>Bacilli</td>\n",
       "      <td>Clostridia</td>\n",
       "      <td>Bacteroidia</td>\n",
       "      <td>Gammaproteobacteria</td>\n",
       "    </tr>\n",
       "    <tr>\n",
       "      <th>Order</th>\n",
       "      <td>Lachnospirales</td>\n",
       "      <td>NA</td>\n",
       "      <td>Lachnospirales</td>\n",
       "      <td>Clostridia_UCG-014</td>\n",
       "      <td>Clostridiales</td>\n",
       "      <td>Peptococcales</td>\n",
       "      <td>Lachnospirales</td>\n",
       "      <td>Clostridia_vadinBB60_group</td>\n",
       "      <td>Lactobacillales</td>\n",
       "      <td>Veillonellales-Selenomonadales</td>\n",
       "      <td>...</td>\n",
       "      <td>RF39</td>\n",
       "      <td>Oscillospirales</td>\n",
       "      <td>Peptostreptococcales-Tissierellales</td>\n",
       "      <td>Clostridia_UCG-014</td>\n",
       "      <td>Peptococcales</td>\n",
       "      <td>Bacteroidales</td>\n",
       "      <td>Lactobacillales</td>\n",
       "      <td>Oscillospirales</td>\n",
       "      <td>Bacteroidales</td>\n",
       "      <td>Enterobacterales</td>\n",
       "    </tr>\n",
       "    <tr>\n",
       "      <th>Family</th>\n",
       "      <td>Lachnospiraceae</td>\n",
       "      <td>NA</td>\n",
       "      <td>Lachnospiraceae</td>\n",
       "      <td>Clostridia_UCG-014</td>\n",
       "      <td>Clostridiaceae</td>\n",
       "      <td>Peptococcaceae</td>\n",
       "      <td>Lachnospiraceae</td>\n",
       "      <td>Clostridia_vadinBB60_group</td>\n",
       "      <td>Streptococcaceae</td>\n",
       "      <td>Veillonellaceae</td>\n",
       "      <td>...</td>\n",
       "      <td>RF39</td>\n",
       "      <td>UCG-010</td>\n",
       "      <td>Peptostreptococcales-Tissierellales</td>\n",
       "      <td>Clostridia_UCG-014</td>\n",
       "      <td>Peptococcaceae</td>\n",
       "      <td>Bacteroidaceae</td>\n",
       "      <td>Lactobacillaceae</td>\n",
       "      <td>Ruminococcaceae</td>\n",
       "      <td>Prevotellaceae</td>\n",
       "      <td>Enterobacteriaceae</td>\n",
       "    </tr>\n",
       "    <tr>\n",
       "      <th>Genus</th>\n",
       "      <td>Lachnospiraceae_ND3007_group</td>\n",
       "      <td>NA</td>\n",
       "      <td>NA</td>\n",
       "      <td>Clostridia_UCG-014</td>\n",
       "      <td>Clostridium_sensu_stricto_1</td>\n",
       "      <td>uncultured</td>\n",
       "      <td>Lachnospiraceae_FCS020_group</td>\n",
       "      <td>Clostridia_vadinBB60_group</td>\n",
       "      <td>Lactococcus</td>\n",
       "      <td>Allisonella</td>\n",
       "      <td>...</td>\n",
       "      <td>RF39</td>\n",
       "      <td>UCG-010</td>\n",
       "      <td>Murdochiella</td>\n",
       "      <td>Clostridia_UCG-014</td>\n",
       "      <td>uncultured</td>\n",
       "      <td>Bacteroides</td>\n",
       "      <td>Lactobacillus</td>\n",
       "      <td>Faecalibacterium</td>\n",
       "      <td>Prevotella</td>\n",
       "      <td>NA</td>\n",
       "    </tr>\n",
       "    <tr>\n",
       "      <th>Species</th>\n",
       "      <td>metagenome</td>\n",
       "      <td>NA</td>\n",
       "      <td>NA</td>\n",
       "      <td>uncultured_Acetivibrio</td>\n",
       "      <td>NA</td>\n",
       "      <td>NA</td>\n",
       "      <td>uncultured_organism</td>\n",
       "      <td>uncultured_bacterium</td>\n",
       "      <td>NA</td>\n",
       "      <td>uncultured_bacterium</td>\n",
       "      <td>...</td>\n",
       "      <td>gut_metagenome</td>\n",
       "      <td>uncultured_bacterium</td>\n",
       "      <td>Murdochiella_vaginalis</td>\n",
       "      <td>NA</td>\n",
       "      <td>unidentified</td>\n",
       "      <td>NA</td>\n",
       "      <td>Lactobacillus_iners</td>\n",
       "      <td>NA</td>\n",
       "      <td>NA</td>\n",
       "      <td>NA</td>\n",
       "    </tr>\n",
       "  </tbody>\n",
       "</table>\n",
       "<p>8 rows × 3799 columns</p>\n",
       "</div>"
      ],
      "text/plain": [
       "taxonomy d__Bacteria; p__Firmicutes; c__Clostridia; o__Lachnospirales; f__Lachnospiraceae; g__Lachnospiraceae_ND3007_group; s__metagenome  \\\n",
       "9                                                         0                                                                                 \n",
       "Domain                                             Bacteria                                                                                 \n",
       "Phylum                                           Firmicutes                                                                                 \n",
       "Class                                            Clostridia                                                                                 \n",
       "Order                                        Lachnospirales                                                                                 \n",
       "Family                                      Lachnospiraceae                                                                                 \n",
       "Genus                          Lachnospiraceae_ND3007_group                                                                                 \n",
       "Species                                          metagenome                                                                                 \n",
       "\n",
       "taxonomy d__Bacteria; p__Firmicutes; c__Clostridia  \\\n",
       "9                                                0   \n",
       "Domain                                    Bacteria   \n",
       "Phylum                                  Firmicutes   \n",
       "Class                                   Clostridia   \n",
       "Order                                           NA   \n",
       "Family                                          NA   \n",
       "Genus                                           NA   \n",
       "Species                                         NA   \n",
       "\n",
       "taxonomy d__Bacteria; p__Firmicutes; c__Clostridia; o__Lachnospirales; f__Lachnospiraceae  \\\n",
       "9                                                0.00101026                                 \n",
       "Domain                                             Bacteria                                 \n",
       "Phylum                                           Firmicutes                                 \n",
       "Class                                            Clostridia                                 \n",
       "Order                                        Lachnospirales                                 \n",
       "Family                                      Lachnospiraceae                                 \n",
       "Genus                                                    NA                                 \n",
       "Species                                                  NA                                 \n",
       "\n",
       "taxonomy d__Bacteria; p__Firmicutes; c__Clostridia; o__Clostridia_UCG-014; f__Clostridia_UCG-014; g__Clostridia_UCG-014; s__uncultured_Acetivibrio  \\\n",
       "9                                                         0                                                                                          \n",
       "Domain                                             Bacteria                                                                                          \n",
       "Phylum                                           Firmicutes                                                                                          \n",
       "Class                                            Clostridia                                                                                          \n",
       "Order                                    Clostridia_UCG-014                                                                                          \n",
       "Family                                   Clostridia_UCG-014                                                                                          \n",
       "Genus                                    Clostridia_UCG-014                                                                                          \n",
       "Species                              uncultured_Acetivibrio                                                                                          \n",
       "\n",
       "taxonomy d__Bacteria; p__Firmicutes; c__Clostridia; o__Clostridiales; f__Clostridiaceae; g__Clostridium_sensu_stricto_1  \\\n",
       "9                                                         0                                                               \n",
       "Domain                                             Bacteria                                                               \n",
       "Phylum                                           Firmicutes                                                               \n",
       "Class                                            Clostridia                                                               \n",
       "Order                                         Clostridiales                                                               \n",
       "Family                                       Clostridiaceae                                                               \n",
       "Genus                           Clostridium_sensu_stricto_1                                                               \n",
       "Species                                                  NA                                                               \n",
       "\n",
       "taxonomy d__Bacteria; p__Firmicutes; c__Clostridia; o__Peptococcales; f__Peptococcaceae; g__uncultured  \\\n",
       "9                                                         0                                              \n",
       "Domain                                             Bacteria                                              \n",
       "Phylum                                           Firmicutes                                              \n",
       "Class                                            Clostridia                                              \n",
       "Order                                         Peptococcales                                              \n",
       "Family                                       Peptococcaceae                                              \n",
       "Genus                                            uncultured                                              \n",
       "Species                                                  NA                                              \n",
       "\n",
       "taxonomy d__Bacteria; p__Firmicutes; c__Clostridia; o__Lachnospirales; f__Lachnospiraceae; g__Lachnospiraceae_FCS020_group; s__uncultured_organism  \\\n",
       "9                                                         0                                                                                          \n",
       "Domain                                             Bacteria                                                                                          \n",
       "Phylum                                           Firmicutes                                                                                          \n",
       "Class                                            Clostridia                                                                                          \n",
       "Order                                        Lachnospirales                                                                                          \n",
       "Family                                      Lachnospiraceae                                                                                          \n",
       "Genus                          Lachnospiraceae_FCS020_group                                                                                          \n",
       "Species                                 uncultured_organism                                                                                          \n",
       "\n",
       "taxonomy d__Bacteria; p__Firmicutes; c__Clostridia; o__Clostridia_vadinBB60_group; f__Clostridia_vadinBB60_group; g__Clostridia_vadinBB60_group; s__uncultured_bacterium  \\\n",
       "9                                                         0                                                                                                                \n",
       "Domain                                             Bacteria                                                                                                                \n",
       "Phylum                                           Firmicutes                                                                                                                \n",
       "Class                                            Clostridia                                                                                                                \n",
       "Order                            Clostridia_vadinBB60_group                                                                                                                \n",
       "Family                           Clostridia_vadinBB60_group                                                                                                                \n",
       "Genus                            Clostridia_vadinBB60_group                                                                                                                \n",
       "Species                                uncultured_bacterium                                                                                                                \n",
       "\n",
       "taxonomy d__Bacteria; p__Firmicutes; c__Bacilli; o__Lactobacillales; f__Streptococcaceae; g__Lactococcus  \\\n",
       "9                                                         0                                                \n",
       "Domain                                             Bacteria                                                \n",
       "Phylum                                           Firmicutes                                                \n",
       "Class                                               Bacilli                                                \n",
       "Order                                       Lactobacillales                                                \n",
       "Family                                     Streptococcaceae                                                \n",
       "Genus                                           Lactococcus                                                \n",
       "Species                                                  NA                                                \n",
       "\n",
       "taxonomy d__Bacteria; p__Firmicutes; c__Negativicutes; o__Veillonellales-Selenomonadales; f__Veillonellaceae; g__Allisonella; s__uncultured_bacterium  \\\n",
       "9                                                         0                                                                                             \n",
       "Domain                                             Bacteria                                                                                             \n",
       "Phylum                                           Firmicutes                                                                                             \n",
       "Class                                         Negativicutes                                                                                             \n",
       "Order                        Veillonellales-Selenomonadales                                                                                             \n",
       "Family                                      Veillonellaceae                                                                                             \n",
       "Genus                                           Allisonella                                                                                             \n",
       "Species                                uncultured_bacterium                                                                                             \n",
       "\n",
       "taxonomy  ...  \\\n",
       "9         ...   \n",
       "Domain    ...   \n",
       "Phylum    ...   \n",
       "Class     ...   \n",
       "Order     ...   \n",
       "Family    ...   \n",
       "Genus     ...   \n",
       "Species   ...   \n",
       "\n",
       "taxonomy d__Bacteria; p__Firmicutes; c__Bacilli; o__RF39; f__RF39; g__RF39; s__gut_metagenome  \\\n",
       "9                                                         0                                     \n",
       "Domain                                             Bacteria                                     \n",
       "Phylum                                           Firmicutes                                     \n",
       "Class                                               Bacilli                                     \n",
       "Order                                                  RF39                                     \n",
       "Family                                                 RF39                                     \n",
       "Genus                                                  RF39                                     \n",
       "Species                                      gut_metagenome                                     \n",
       "\n",
       "taxonomy d__Bacteria; p__Firmicutes; c__Clostridia; o__Oscillospirales; f__UCG-010; g__UCG-010; s__uncultured_bacterium  \\\n",
       "9                                                         0                                                               \n",
       "Domain                                             Bacteria                                                               \n",
       "Phylum                                           Firmicutes                                                               \n",
       "Class                                            Clostridia                                                               \n",
       "Order                                       Oscillospirales                                                               \n",
       "Family                                              UCG-010                                                               \n",
       "Genus                                               UCG-010                                                               \n",
       "Species                                uncultured_bacterium                                                               \n",
       "\n",
       "taxonomy d__Bacteria; p__Firmicutes; c__Clostridia; o__Peptostreptococcales-Tissierellales; f__Peptostreptococcales-Tissierellales; g__Murdochiella; s__Murdochiella_vaginalis  \\\n",
       "9                                                         0                                                                                                                      \n",
       "Domain                                             Bacteria                                                                                                                      \n",
       "Phylum                                           Firmicutes                                                                                                                      \n",
       "Class                                            Clostridia                                                                                                                      \n",
       "Order                   Peptostreptococcales-Tissierellales                                                                                                                      \n",
       "Family                  Peptostreptococcales-Tissierellales                                                                                                                      \n",
       "Genus                                          Murdochiella                                                                                                                      \n",
       "Species                              Murdochiella_vaginalis                                                                                                                      \n",
       "\n",
       "taxonomy d__Bacteria; p__Firmicutes; c__Clostridia; o__Clostridia_UCG-014; f__Clostridia_UCG-014; g__Clostridia_UCG-014  \\\n",
       "9                                                         0                                                               \n",
       "Domain                                             Bacteria                                                               \n",
       "Phylum                                           Firmicutes                                                               \n",
       "Class                                            Clostridia                                                               \n",
       "Order                                    Clostridia_UCG-014                                                               \n",
       "Family                                   Clostridia_UCG-014                                                               \n",
       "Genus                                    Clostridia_UCG-014                                                               \n",
       "Species                                                  NA                                                               \n",
       "\n",
       "taxonomy d__Bacteria; p__Firmicutes; c__Clostridia; o__Peptococcales; f__Peptococcaceae; g__uncultured; s__unidentified  \\\n",
       "9                                                         0                                                               \n",
       "Domain                                             Bacteria                                                               \n",
       "Phylum                                           Firmicutes                                                               \n",
       "Class                                            Clostridia                                                               \n",
       "Order                                         Peptococcales                                                               \n",
       "Family                                       Peptococcaceae                                                               \n",
       "Genus                                            uncultured                                                               \n",
       "Species                                        unidentified                                                               \n",
       "\n",
       "taxonomy d__Bacteria; p__Bacteroidota; c__Bacteroidia; o__Bacteroidales; f__Bacteroidaceae; g__Bacteroides  \\\n",
       "9                                                         0                                                  \n",
       "Domain                                             Bacteria                                                  \n",
       "Phylum                                         Bacteroidota                                                  \n",
       "Class                                           Bacteroidia                                                  \n",
       "Order                                         Bacteroidales                                                  \n",
       "Family                                       Bacteroidaceae                                                  \n",
       "Genus                                           Bacteroides                                                  \n",
       "Species                                                  NA                                                  \n",
       "\n",
       "taxonomy d__Bacteria; p__Firmicutes; c__Bacilli; o__Lactobacillales; f__Lactobacillaceae; g__Lactobacillus; s__Lactobacillus_iners  \\\n",
       "9                                               0.000292444                                                                          \n",
       "Domain                                             Bacteria                                                                          \n",
       "Phylum                                           Firmicutes                                                                          \n",
       "Class                                               Bacilli                                                                          \n",
       "Order                                       Lactobacillales                                                                          \n",
       "Family                                     Lactobacillaceae                                                                          \n",
       "Genus                                         Lactobacillus                                                                          \n",
       "Species                                 Lactobacillus_iners                                                                          \n",
       "\n",
       "taxonomy d__Bacteria; p__Firmicutes; c__Clostridia; o__Oscillospirales; f__Ruminococcaceae; g__Faecalibacterium  \\\n",
       "9                                                         0                                                       \n",
       "Domain                                             Bacteria                                                       \n",
       "Phylum                                           Firmicutes                                                       \n",
       "Class                                            Clostridia                                                       \n",
       "Order                                       Oscillospirales                                                       \n",
       "Family                                      Ruminococcaceae                                                       \n",
       "Genus                                      Faecalibacterium                                                       \n",
       "Species                                                  NA                                                       \n",
       "\n",
       "taxonomy d__Bacteria; p__Bacteroidota; c__Bacteroidia; o__Bacteroidales; f__Prevotellaceae; g__Prevotella  \\\n",
       "9                                                         0                                                 \n",
       "Domain                                             Bacteria                                                 \n",
       "Phylum                                         Bacteroidota                                                 \n",
       "Class                                           Bacteroidia                                                 \n",
       "Order                                         Bacteroidales                                                 \n",
       "Family                                       Prevotellaceae                                                 \n",
       "Genus                                            Prevotella                                                 \n",
       "Species                                                  NA                                                 \n",
       "\n",
       "taxonomy d__Bacteria; p__Proteobacteria; c__Gammaproteobacteria; o__Enterobacterales; f__Enterobacteriaceae  \n",
       "9                                                         0                                                  \n",
       "Domain                                             Bacteria                                                  \n",
       "Phylum                                       Proteobacteria                                                  \n",
       "Class                                   Gammaproteobacteria                                                  \n",
       "Order                                      Enterobacterales                                                  \n",
       "Family                                   Enterobacteriaceae                                                  \n",
       "Genus                                                    NA                                                  \n",
       "Species                                                  NA                                                  \n",
       "\n",
       "[8 rows x 3799 columns]"
      ]
     },
     "execution_count": 156,
     "metadata": {},
     "output_type": "execute_result"
    }
   ],
   "source": [
    "feat_df.iloc[-8:]"
   ]
  },
  {
   "cell_type": "markdown",
   "metadata": {},
   "source": [
    "### Convert to relative abundances"
   ]
  },
  {
   "cell_type": "code",
   "execution_count": 110,
   "metadata": {},
   "outputs": [],
   "source": [
    "for row in feat_df.iloc[:-7].index:\n",
    "    feat_df.loc[row] = feat_df.loc[row].apply(lambda x: x/feat_df.loc[row].sum())"
   ]
  },
  {
   "cell_type": "markdown",
   "metadata": {},
   "source": [
    "### Exporting to CSV\n",
    "\n",
    "This output could be used in Excel, R, SPSS, or any other statistical analysis software."
   ]
  },
  {
   "cell_type": "code",
   "execution_count": null,
   "metadata": {},
   "outputs": [],
   "source": [
    "feat_df.to_csv('relative_abundances.csv')"
   ]
  },
  {
   "cell_type": "markdown",
   "metadata": {},
   "source": [
    "### Grouping by taxonomy level\n",
    "\n",
    "If you want to group it at a specific taxonomy level, use the following code, which uses phylum as an example. You can export this using the `DataFrame.to_csv('Exported_filename.csv')` command."
   ]
  },
  {
   "cell_type": "code",
   "execution_count": 117,
   "metadata": {},
   "outputs": [],
   "source": [
    "by_phylum = feat_df.groupby(by=feat_df.loc['Phylum'], axis=1).sum().iloc[:-7]"
   ]
  },
  {
   "cell_type": "code",
   "execution_count": 118,
   "metadata": {},
   "outputs": [
    {
     "data": {
      "text/html": [
       "<div>\n",
       "<style scoped>\n",
       "    .dataframe tbody tr th:only-of-type {\n",
       "        vertical-align: middle;\n",
       "    }\n",
       "\n",
       "    .dataframe tbody tr th {\n",
       "        vertical-align: top;\n",
       "    }\n",
       "\n",
       "    .dataframe thead th {\n",
       "        text-align: right;\n",
       "    }\n",
       "</style>\n",
       "<table border=\"1\" class=\"dataframe\">\n",
       "  <thead>\n",
       "    <tr style=\"text-align: right;\">\n",
       "      <th>Phylum</th>\n",
       "      <th>Actinobacteriota</th>\n",
       "      <th>Bacteroidota</th>\n",
       "      <th>Basidiomycota</th>\n",
       "      <th>Campilobacterota</th>\n",
       "      <th>Cyanobacteria</th>\n",
       "      <th>Desulfobacterota</th>\n",
       "      <th>Elusimicrobiota</th>\n",
       "      <th>Euryarchaeota</th>\n",
       "      <th>Firmicutes</th>\n",
       "      <th>Fusobacteriota</th>\n",
       "      <th>NA</th>\n",
       "      <th>Proteobacteria</th>\n",
       "      <th>Synergistota</th>\n",
       "      <th>Thermoplasmatota</th>\n",
       "      <th>Verrucomicrobiota</th>\n",
       "    </tr>\n",
       "  </thead>\n",
       "  <tbody>\n",
       "    <tr>\n",
       "      <th>1</th>\n",
       "      <td>0.0243659</td>\n",
       "      <td>0.0453365</td>\n",
       "      <td>0</td>\n",
       "      <td>0</td>\n",
       "      <td>0</td>\n",
       "      <td>0</td>\n",
       "      <td>0</td>\n",
       "      <td>0</td>\n",
       "      <td>0.275414</td>\n",
       "      <td>0</td>\n",
       "      <td>0</td>\n",
       "      <td>0.654883</td>\n",
       "      <td>0</td>\n",
       "      <td>0</td>\n",
       "      <td>0</td>\n",
       "    </tr>\n",
       "    <tr>\n",
       "      <th>10</th>\n",
       "      <td>0.023148</td>\n",
       "      <td>0.431619</td>\n",
       "      <td>0</td>\n",
       "      <td>0</td>\n",
       "      <td>0</td>\n",
       "      <td>0.00558993</td>\n",
       "      <td>0</td>\n",
       "      <td>0.00535104</td>\n",
       "      <td>0.522491</td>\n",
       "      <td>0</td>\n",
       "      <td>4.77772e-05</td>\n",
       "      <td>0.0117532</td>\n",
       "      <td>0</td>\n",
       "      <td>0</td>\n",
       "      <td>0</td>\n",
       "    </tr>\n",
       "    <tr>\n",
       "      <th>11</th>\n",
       "      <td>0.0095096</td>\n",
       "      <td>0.381742</td>\n",
       "      <td>0</td>\n",
       "      <td>0</td>\n",
       "      <td>0</td>\n",
       "      <td>0.00454323</td>\n",
       "      <td>0</td>\n",
       "      <td>0.000645851</td>\n",
       "      <td>0.526502</td>\n",
       "      <td>0</td>\n",
       "      <td>0</td>\n",
       "      <td>0.0770567</td>\n",
       "      <td>0</td>\n",
       "      <td>0</td>\n",
       "      <td>0</td>\n",
       "    </tr>\n",
       "    <tr>\n",
       "      <th>12</th>\n",
       "      <td>0.00828432</td>\n",
       "      <td>0.200036</td>\n",
       "      <td>0</td>\n",
       "      <td>0.000246958</td>\n",
       "      <td>0</td>\n",
       "      <td>0</td>\n",
       "      <td>0</td>\n",
       "      <td>0</td>\n",
       "      <td>0.520228</td>\n",
       "      <td>0</td>\n",
       "      <td>0</td>\n",
       "      <td>0.271205</td>\n",
       "      <td>0</td>\n",
       "      <td>0</td>\n",
       "      <td>0</td>\n",
       "    </tr>\n",
       "    <tr>\n",
       "      <th>13</th>\n",
       "      <td>0.00309781</td>\n",
       "      <td>0.0388803</td>\n",
       "      <td>0</td>\n",
       "      <td>0</td>\n",
       "      <td>0</td>\n",
       "      <td>0</td>\n",
       "      <td>0</td>\n",
       "      <td>0</td>\n",
       "      <td>0.443117</td>\n",
       "      <td>0</td>\n",
       "      <td>0</td>\n",
       "      <td>0.514905</td>\n",
       "      <td>0</td>\n",
       "      <td>0</td>\n",
       "      <td>0</td>\n",
       "    </tr>\n",
       "  </tbody>\n",
       "</table>\n",
       "</div>"
      ],
      "text/plain": [
       "Phylum Actinobacteriota Bacteroidota Basidiomycota Campilobacterota  \\\n",
       "1             0.0243659    0.0453365             0                0   \n",
       "10             0.023148     0.431619             0                0   \n",
       "11            0.0095096     0.381742             0                0   \n",
       "12           0.00828432     0.200036             0      0.000246958   \n",
       "13           0.00309781    0.0388803             0                0   \n",
       "\n",
       "Phylum Cyanobacteria Desulfobacterota Elusimicrobiota Euryarchaeota  \\\n",
       "1                  0                0               0             0   \n",
       "10                 0       0.00558993               0    0.00535104   \n",
       "11                 0       0.00454323               0   0.000645851   \n",
       "12                 0                0               0             0   \n",
       "13                 0                0               0             0   \n",
       "\n",
       "Phylum Firmicutes Fusobacteriota           NA Proteobacteria Synergistota  \\\n",
       "1        0.275414              0            0       0.654883            0   \n",
       "10       0.522491              0  4.77772e-05      0.0117532            0   \n",
       "11       0.526502              0            0      0.0770567            0   \n",
       "12       0.520228              0            0       0.271205            0   \n",
       "13       0.443117              0            0       0.514905            0   \n",
       "\n",
       "Phylum Thermoplasmatota Verrucomicrobiota  \n",
       "1                     0                 0  \n",
       "10                    0                 0  \n",
       "11                    0                 0  \n",
       "12                    0                 0  \n",
       "13                    0                 0  "
      ]
     },
     "execution_count": 118,
     "metadata": {},
     "output_type": "execute_result"
    }
   ],
   "source": [
    "by_phylum.head()"
   ]
  },
  {
   "cell_type": "code",
   "execution_count": 119,
   "metadata": {},
   "outputs": [],
   "source": [
    "by_phylum.to_csv('by_phylum.csv')"
   ]
  },
  {
   "cell_type": "markdown",
   "metadata": {},
   "source": [
    "### Statistical testing\n",
    "\n",
    "The index of these dataframes is the sample ID that was given to QIIME2 on your metadata. For any statistical testing, align your metadata sample IDs with the index of the relative abundance table and test the taxa of interest.\n",
    "\n",
    "Very frequently, **the relative abundance data will not be normally distributed**, so you shouldn't use parametric tests that assume normality. The figure below shows a typical distribution:"
   ]
  },
  {
   "cell_type": "code",
   "execution_count": 122,
   "metadata": {},
   "outputs": [
    {
     "data": {
      "text/plain": [
       "<matplotlib.axes._subplots.AxesSubplot at 0x14cf9fcc0>"
      ]
     },
     "execution_count": 122,
     "metadata": {},
     "output_type": "execute_result"
    },
    {
     "data": {
      "image/png": "[encoded data removed]",
      "text/plain": [
       "<Figure size 432x288 with 1 Axes>"
      ]
     },
     "metadata": {
      "needs_background": "light"
     },
     "output_type": "display_data"
    }
   ],
   "source": [
    "sns.histplot(by_phylum['Actinobacteriota'], bins=10)"
   ]
  },
  {
   "cell_type": "markdown",
   "metadata": {},
   "source": [
    "Below is the distribution after applying an arcsin square root transformation. This now appears more normally distributed."
   ]
  },
  {
   "cell_type": "code",
   "execution_count": 124,
   "metadata": {},
   "outputs": [
    {
     "data": {
      "text/plain": [
       "<matplotlib.axes._subplots.AxesSubplot at 0x14d51f828>"
      ]
     },
     "execution_count": 124,
     "metadata": {},
     "output_type": "execute_result"
    },
    {
     "data": {
      "image/png": "[encoded data removed]",
      "text/plain": [
       "<Figure size 432x288 with 1 Axes>"
      ]
     },
     "metadata": {
      "needs_background": "light"
     },
     "output_type": "display_data"
    }
   ],
   "source": [
    "sns.histplot(by_phylum['Actinobacteriota'].apply(lambda x: np.arcsin(np.sqrt(x))), bins=10)"
   ]
  },
  {
   "cell_type": "markdown",
   "metadata": {},
   "source": [
    "We can run a Kolmogorov-Smirnov test to see if the data is normally distributed. This test's null hypothesis is that the data's distribution is identical to a normal distribution, so if p < 0.05, the data should not be treated as normal."
   ]
  },
  {
   "cell_type": "code",
   "execution_count": 137,
   "metadata": {},
   "outputs": [
    {
     "name": "stdout",
     "output_type": "stream",
     "text": [
      "P value for untransformed data:  3.65390202622604e-11\n",
      "P value for transformed data:  1.871387525753185e-11\n"
     ]
    }
   ],
   "source": [
    "print('P value for untransformed data: ',\n",
    "      stats.kstest([x for x in by_phylum['Actinobacteriota']],\n",
    "             cdf='norm')[1])\n",
    "\n",
    "print('P value for transformed data: ',\n",
    "      stats.kstest([x for x in by_phylum['Actinobacteriota'].apply(lambda x: np.arcsin(np.sqrt(x)))],\n",
    "                    cdf='norm')[1])"
   ]
  },
  {
   "cell_type": "markdown",
   "metadata": {},
   "source": [
    "Even after being transformed, the data are not normally distributed, so they should not be treated as such."
   ]
  },
  {
   "cell_type": "markdown",
   "metadata": {},
   "source": [
    "## Machine Learning\n",
    "\n",
    "Random forests work great with microbiome data! Here is an example of how to run one. I like to use random-state=42 because identifying a random state helps with reproducibility, and 42 is a good number :)"
   ]
  },
  {
   "cell_type": "code",
   "execution_count": null,
   "metadata": {},
   "outputs": [],
   "source": [
    "! qiime sample-classifier classify-samples \\\n",
    "--i-table noMito_noChloro-filtered-table.qza \\\n",
    "--m-metadata-file metadata.tsv \\\n",
    "--m-metadata-column COLUMNOFINTEREST (must be categorical) \\\n",
    "--p-random-state 42 \\\n",
    "--p-estimator RandomForestClassifier \\\n",
    "--p-missing-samples ignore \\ \n",
    "--output-dir random-forest-results"
   ]
  },
  {
   "cell_type": "markdown",
   "metadata": {},
   "source": [
    "## Songbird\n",
    "\n",
    "[Songbird](https://github.com/biocore/songbird) is a great tool for handling compositional data. I highly recommend looking into using it."
   ]
  }
 ],
 "metadata": {
  "kernelspec": {
   "display_name": "Python 3",
   "language": "python",
   "name": "python3"
  },
  "language_info": {
   "codemirror_mode": {
    "name": "ipython",
    "version": 3
   },
   "file_extension": ".py",
   "mimetype": "text/x-python",
   "name": "python",
   "nbconvert_exporter": "python",
   "pygments_lexer": "ipython3",
   "version": "3.8.8"
  }
 },
 "nbformat": 4,
 "nbformat_minor": 2
}
